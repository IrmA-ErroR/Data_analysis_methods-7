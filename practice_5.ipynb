{
  "cells": [
    {
      "cell_type": "markdown",
      "source": [
        "# Машинное обучение\n",
        "## Практическое задание 5. Рекомендательные системы\n",
        "### Общая информация\n",
        "### О задании\n",
        "В этом задании мы будем практиковаться в построении рекомендательных систем: научимся считать метрики и пообучаем модели."
      ],
      "metadata": {
        "id": "ItuyOA7LFobl"
      }
    },
    {
      "cell_type": "code",
      "source": [
        "from google.colab import drive\n",
        "drive.mount('/content/drive')"
      ],
      "metadata": {
        "colab": {
          "base_uri": "https://localhost:8080/"
        },
        "id": "zl8vaGTtHwN0",
        "outputId": "424994b2-b602-4874-9f3d-f118b040d5b1"
      },
      "execution_count": 73,
      "outputs": [
        {
          "output_type": "stream",
          "name": "stdout",
          "text": [
            "Drive already mounted at /content/drive; to attempt to forcibly remount, call drive.mount(\"/content/drive\", force_remount=True).\n"
          ]
        }
      ]
    },
    {
      "cell_type": "code",
      "execution_count": 74,
      "metadata": {
        "id": "Ash475YSzd-h"
      },
      "outputs": [],
      "source": [
        "import numpy as np\n",
        "import pandas as pd\n",
        "from sklearn.model_selection import train_test_split\n",
        "import tqdm"
      ]
    },
    {
      "cell_type": "markdown",
      "metadata": {
        "id": "udVpN6NXzd-l"
      },
      "source": [
        "### Данные\n",
        "\n",
        "Будем работать с датасетом  от онлайн-кинотеатра Okko [REKKO CHALLENGE](https://boosters.pro/championship/rekko_challenge/data)."
      ]
    },
    {
      "cell_type": "markdown",
      "metadata": {
        "id": "siiEUo1Fzd-m"
      },
      "source": [
        "Имеющиеся данные содержат несколько файлов. Рассмотрим всё, что у нас есть."
      ]
    },
    {
      "cell_type": "markdown",
      "metadata": {
        "id": "_3b75F5Azd-n"
      },
      "source": [
        "`catalogue.json` содержит анонимизированную метаинформацию о доступных в сервисе фильмах и сериалах:"
      ]
    },
    {
      "cell_type": "code",
      "execution_count": 75,
      "metadata": {
        "id": "F16ixUEZzd-o"
      },
      "outputs": [],
      "source": [
        "catalogue = pd.read_json('catalogue.json').T"
      ]
    },
    {
      "cell_type": "code",
      "execution_count": 76,
      "metadata": {
        "id": "aDEclZBmzd-s"
      },
      "outputs": [],
      "source": [
        "catalogue['element_uid'] = catalogue.index"
      ]
    },
    {
      "cell_type": "code",
      "execution_count": 77,
      "metadata": {
        "colab": {
          "base_uri": "https://localhost:8080/",
          "height": 206
        },
        "id": "6qGGga6Yzd-z",
        "outputId": "04551349-baf0-48f3-e013-c4b2c3c3fb31"
      },
      "outputs": [
        {
          "output_type": "execute_result",
          "data": {
            "text/plain": [
              "       type                    availability duration        feature_1  \\\n",
              "1983  movie  [purchase, rent, subscription]      140   1657223.396513   \n",
              "3783  movie  [purchase, rent, subscription]      110  35565207.694893   \n",
              "5208  movie  [purchase, rent, subscription]       90   13270676.52431   \n",
              "9744  movie  [purchase, rent, subscription]      120  21749917.409823   \n",
              "1912  movie                [purchase, rent]      110   9212963.985682   \n",
              "\n",
              "     feature_2 feature_3 feature_4 feature_5  \\\n",
              "1983   0.75361        39  1.119409       0.0   \n",
              "3783  0.766254        41  1.138604  0.654707   \n",
              "5208  0.765425        27  1.131807  0.592716   \n",
              "9744  0.757874        26  1.133525  0.654707   \n",
              "1912  0.759566         7  1.110127  0.654707   \n",
              "\n",
              "                                             attributes  element_uid  \n",
              "1983  [1, 2, 3, 4, 5, 6, 7, 8, 9, 10, 11, 12, 13, 14...         1983  \n",
              "3783  [1, 26, 27, 28, 29, 7, 30, 31, 32, 10, 14, 15,...         3783  \n",
              "5208  [1, 38, 39, 40, 7, 41, 42, 43, 14, 15, 17, 18,...         5208  \n",
              "9744  [1, 47, 48, 49, 50, 51, 52, 53, 32, 42, 54, 14...         9744  \n",
              "1912  [1, 59, 60, 61, 62, 7, 52, 63, 10, 42, 54, 17,...         1912  "
            ],
            "text/html": [
              "\n",
              "  <div id=\"df-7c2d4681-6cbf-4474-acee-f96d75af67fa\" class=\"colab-df-container\">\n",
              "    <div>\n",
              "<style scoped>\n",
              "    .dataframe tbody tr th:only-of-type {\n",
              "        vertical-align: middle;\n",
              "    }\n",
              "\n",
              "    .dataframe tbody tr th {\n",
              "        vertical-align: top;\n",
              "    }\n",
              "\n",
              "    .dataframe thead th {\n",
              "        text-align: right;\n",
              "    }\n",
              "</style>\n",
              "<table border=\"1\" class=\"dataframe\">\n",
              "  <thead>\n",
              "    <tr style=\"text-align: right;\">\n",
              "      <th></th>\n",
              "      <th>type</th>\n",
              "      <th>availability</th>\n",
              "      <th>duration</th>\n",
              "      <th>feature_1</th>\n",
              "      <th>feature_2</th>\n",
              "      <th>feature_3</th>\n",
              "      <th>feature_4</th>\n",
              "      <th>feature_5</th>\n",
              "      <th>attributes</th>\n",
              "      <th>element_uid</th>\n",
              "    </tr>\n",
              "  </thead>\n",
              "  <tbody>\n",
              "    <tr>\n",
              "      <th>1983</th>\n",
              "      <td>movie</td>\n",
              "      <td>[purchase, rent, subscription]</td>\n",
              "      <td>140</td>\n",
              "      <td>1657223.396513</td>\n",
              "      <td>0.75361</td>\n",
              "      <td>39</td>\n",
              "      <td>1.119409</td>\n",
              "      <td>0.0</td>\n",
              "      <td>[1, 2, 3, 4, 5, 6, 7, 8, 9, 10, 11, 12, 13, 14...</td>\n",
              "      <td>1983</td>\n",
              "    </tr>\n",
              "    <tr>\n",
              "      <th>3783</th>\n",
              "      <td>movie</td>\n",
              "      <td>[purchase, rent, subscription]</td>\n",
              "      <td>110</td>\n",
              "      <td>35565207.694893</td>\n",
              "      <td>0.766254</td>\n",
              "      <td>41</td>\n",
              "      <td>1.138604</td>\n",
              "      <td>0.654707</td>\n",
              "      <td>[1, 26, 27, 28, 29, 7, 30, 31, 32, 10, 14, 15,...</td>\n",
              "      <td>3783</td>\n",
              "    </tr>\n",
              "    <tr>\n",
              "      <th>5208</th>\n",
              "      <td>movie</td>\n",
              "      <td>[purchase, rent, subscription]</td>\n",
              "      <td>90</td>\n",
              "      <td>13270676.52431</td>\n",
              "      <td>0.765425</td>\n",
              "      <td>27</td>\n",
              "      <td>1.131807</td>\n",
              "      <td>0.592716</td>\n",
              "      <td>[1, 38, 39, 40, 7, 41, 42, 43, 14, 15, 17, 18,...</td>\n",
              "      <td>5208</td>\n",
              "    </tr>\n",
              "    <tr>\n",
              "      <th>9744</th>\n",
              "      <td>movie</td>\n",
              "      <td>[purchase, rent, subscription]</td>\n",
              "      <td>120</td>\n",
              "      <td>21749917.409823</td>\n",
              "      <td>0.757874</td>\n",
              "      <td>26</td>\n",
              "      <td>1.133525</td>\n",
              "      <td>0.654707</td>\n",
              "      <td>[1, 47, 48, 49, 50, 51, 52, 53, 32, 42, 54, 14...</td>\n",
              "      <td>9744</td>\n",
              "    </tr>\n",
              "    <tr>\n",
              "      <th>1912</th>\n",
              "      <td>movie</td>\n",
              "      <td>[purchase, rent]</td>\n",
              "      <td>110</td>\n",
              "      <td>9212963.985682</td>\n",
              "      <td>0.759566</td>\n",
              "      <td>7</td>\n",
              "      <td>1.110127</td>\n",
              "      <td>0.654707</td>\n",
              "      <td>[1, 59, 60, 61, 62, 7, 52, 63, 10, 42, 54, 17,...</td>\n",
              "      <td>1912</td>\n",
              "    </tr>\n",
              "  </tbody>\n",
              "</table>\n",
              "</div>\n",
              "    <div class=\"colab-df-buttons\">\n",
              "\n",
              "  <div class=\"colab-df-container\">\n",
              "    <button class=\"colab-df-convert\" onclick=\"convertToInteractive('df-7c2d4681-6cbf-4474-acee-f96d75af67fa')\"\n",
              "            title=\"Convert this dataframe to an interactive table.\"\n",
              "            style=\"display:none;\">\n",
              "\n",
              "  <svg xmlns=\"http://www.w3.org/2000/svg\" height=\"24px\" viewBox=\"0 -960 960 960\">\n",
              "    <path d=\"M120-120v-720h720v720H120Zm60-500h600v-160H180v160Zm220 220h160v-160H400v160Zm0 220h160v-160H400v160ZM180-400h160v-160H180v160Zm440 0h160v-160H620v160ZM180-180h160v-160H180v160Zm440 0h160v-160H620v160Z\"/>\n",
              "  </svg>\n",
              "    </button>\n",
              "\n",
              "  <style>\n",
              "    .colab-df-container {\n",
              "      display:flex;\n",
              "      gap: 12px;\n",
              "    }\n",
              "\n",
              "    .colab-df-convert {\n",
              "      background-color: #E8F0FE;\n",
              "      border: none;\n",
              "      border-radius: 50%;\n",
              "      cursor: pointer;\n",
              "      display: none;\n",
              "      fill: #1967D2;\n",
              "      height: 32px;\n",
              "      padding: 0 0 0 0;\n",
              "      width: 32px;\n",
              "    }\n",
              "\n",
              "    .colab-df-convert:hover {\n",
              "      background-color: #E2EBFA;\n",
              "      box-shadow: 0px 1px 2px rgba(60, 64, 67, 0.3), 0px 1px 3px 1px rgba(60, 64, 67, 0.15);\n",
              "      fill: #174EA6;\n",
              "    }\n",
              "\n",
              "    .colab-df-buttons div {\n",
              "      margin-bottom: 4px;\n",
              "    }\n",
              "\n",
              "    [theme=dark] .colab-df-convert {\n",
              "      background-color: #3B4455;\n",
              "      fill: #D2E3FC;\n",
              "    }\n",
              "\n",
              "    [theme=dark] .colab-df-convert:hover {\n",
              "      background-color: #434B5C;\n",
              "      box-shadow: 0px 1px 3px 1px rgba(0, 0, 0, 0.15);\n",
              "      filter: drop-shadow(0px 1px 2px rgba(0, 0, 0, 0.3));\n",
              "      fill: #FFFFFF;\n",
              "    }\n",
              "  </style>\n",
              "\n",
              "    <script>\n",
              "      const buttonEl =\n",
              "        document.querySelector('#df-7c2d4681-6cbf-4474-acee-f96d75af67fa button.colab-df-convert');\n",
              "      buttonEl.style.display =\n",
              "        google.colab.kernel.accessAllowed ? 'block' : 'none';\n",
              "\n",
              "      async function convertToInteractive(key) {\n",
              "        const element = document.querySelector('#df-7c2d4681-6cbf-4474-acee-f96d75af67fa');\n",
              "        const dataTable =\n",
              "          await google.colab.kernel.invokeFunction('convertToInteractive',\n",
              "                                                    [key], {});\n",
              "        if (!dataTable) return;\n",
              "\n",
              "        const docLinkHtml = 'Like what you see? Visit the ' +\n",
              "          '<a target=\"_blank\" href=https://colab.research.google.com/notebooks/data_table.ipynb>data table notebook</a>'\n",
              "          + ' to learn more about interactive tables.';\n",
              "        element.innerHTML = '';\n",
              "        dataTable['output_type'] = 'display_data';\n",
              "        await google.colab.output.renderOutput(dataTable, element);\n",
              "        const docLink = document.createElement('div');\n",
              "        docLink.innerHTML = docLinkHtml;\n",
              "        element.appendChild(docLink);\n",
              "      }\n",
              "    </script>\n",
              "  </div>\n",
              "\n",
              "\n",
              "<div id=\"df-46c401e0-d45b-411d-922d-9573be5abd57\">\n",
              "  <button class=\"colab-df-quickchart\" onclick=\"quickchart('df-46c401e0-d45b-411d-922d-9573be5abd57')\"\n",
              "            title=\"Suggest charts\"\n",
              "            style=\"display:none;\">\n",
              "\n",
              "<svg xmlns=\"http://www.w3.org/2000/svg\" height=\"24px\"viewBox=\"0 0 24 24\"\n",
              "     width=\"24px\">\n",
              "    <g>\n",
              "        <path d=\"M19 3H5c-1.1 0-2 .9-2 2v14c0 1.1.9 2 2 2h14c1.1 0 2-.9 2-2V5c0-1.1-.9-2-2-2zM9 17H7v-7h2v7zm4 0h-2V7h2v10zm4 0h-2v-4h2v4z\"/>\n",
              "    </g>\n",
              "</svg>\n",
              "  </button>\n",
              "\n",
              "<style>\n",
              "  .colab-df-quickchart {\n",
              "      --bg-color: #E8F0FE;\n",
              "      --fill-color: #1967D2;\n",
              "      --hover-bg-color: #E2EBFA;\n",
              "      --hover-fill-color: #174EA6;\n",
              "      --disabled-fill-color: #AAA;\n",
              "      --disabled-bg-color: #DDD;\n",
              "  }\n",
              "\n",
              "  [theme=dark] .colab-df-quickchart {\n",
              "      --bg-color: #3B4455;\n",
              "      --fill-color: #D2E3FC;\n",
              "      --hover-bg-color: #434B5C;\n",
              "      --hover-fill-color: #FFFFFF;\n",
              "      --disabled-bg-color: #3B4455;\n",
              "      --disabled-fill-color: #666;\n",
              "  }\n",
              "\n",
              "  .colab-df-quickchart {\n",
              "    background-color: var(--bg-color);\n",
              "    border: none;\n",
              "    border-radius: 50%;\n",
              "    cursor: pointer;\n",
              "    display: none;\n",
              "    fill: var(--fill-color);\n",
              "    height: 32px;\n",
              "    padding: 0;\n",
              "    width: 32px;\n",
              "  }\n",
              "\n",
              "  .colab-df-quickchart:hover {\n",
              "    background-color: var(--hover-bg-color);\n",
              "    box-shadow: 0 1px 2px rgba(60, 64, 67, 0.3), 0 1px 3px 1px rgba(60, 64, 67, 0.15);\n",
              "    fill: var(--button-hover-fill-color);\n",
              "  }\n",
              "\n",
              "  .colab-df-quickchart-complete:disabled,\n",
              "  .colab-df-quickchart-complete:disabled:hover {\n",
              "    background-color: var(--disabled-bg-color);\n",
              "    fill: var(--disabled-fill-color);\n",
              "    box-shadow: none;\n",
              "  }\n",
              "\n",
              "  .colab-df-spinner {\n",
              "    border: 2px solid var(--fill-color);\n",
              "    border-color: transparent;\n",
              "    border-bottom-color: var(--fill-color);\n",
              "    animation:\n",
              "      spin 1s steps(1) infinite;\n",
              "  }\n",
              "\n",
              "  @keyframes spin {\n",
              "    0% {\n",
              "      border-color: transparent;\n",
              "      border-bottom-color: var(--fill-color);\n",
              "      border-left-color: var(--fill-color);\n",
              "    }\n",
              "    20% {\n",
              "      border-color: transparent;\n",
              "      border-left-color: var(--fill-color);\n",
              "      border-top-color: var(--fill-color);\n",
              "    }\n",
              "    30% {\n",
              "      border-color: transparent;\n",
              "      border-left-color: var(--fill-color);\n",
              "      border-top-color: var(--fill-color);\n",
              "      border-right-color: var(--fill-color);\n",
              "    }\n",
              "    40% {\n",
              "      border-color: transparent;\n",
              "      border-right-color: var(--fill-color);\n",
              "      border-top-color: var(--fill-color);\n",
              "    }\n",
              "    60% {\n",
              "      border-color: transparent;\n",
              "      border-right-color: var(--fill-color);\n",
              "    }\n",
              "    80% {\n",
              "      border-color: transparent;\n",
              "      border-right-color: var(--fill-color);\n",
              "      border-bottom-color: var(--fill-color);\n",
              "    }\n",
              "    90% {\n",
              "      border-color: transparent;\n",
              "      border-bottom-color: var(--fill-color);\n",
              "    }\n",
              "  }\n",
              "</style>\n",
              "\n",
              "  <script>\n",
              "    async function quickchart(key) {\n",
              "      const quickchartButtonEl =\n",
              "        document.querySelector('#' + key + ' button');\n",
              "      quickchartButtonEl.disabled = true;  // To prevent multiple clicks.\n",
              "      quickchartButtonEl.classList.add('colab-df-spinner');\n",
              "      try {\n",
              "        const charts = await google.colab.kernel.invokeFunction(\n",
              "            'suggestCharts', [key], {});\n",
              "      } catch (error) {\n",
              "        console.error('Error during call to suggestCharts:', error);\n",
              "      }\n",
              "      quickchartButtonEl.classList.remove('colab-df-spinner');\n",
              "      quickchartButtonEl.classList.add('colab-df-quickchart-complete');\n",
              "    }\n",
              "    (() => {\n",
              "      let quickchartButtonEl =\n",
              "        document.querySelector('#df-46c401e0-d45b-411d-922d-9573be5abd57 button');\n",
              "      quickchartButtonEl.style.display =\n",
              "        google.colab.kernel.accessAllowed ? 'block' : 'none';\n",
              "    })();\n",
              "  </script>\n",
              "</div>\n",
              "    </div>\n",
              "  </div>\n"
            ]
          },
          "metadata": {},
          "execution_count": 77
        }
      ],
      "source": [
        "catalogue.head()"
      ]
    },
    {
      "cell_type": "markdown",
      "metadata": {
        "id": "zsA6f08Ozd-2"
      },
      "source": [
        " - `attributes` — мешок атрибутов;\n",
        " - `availability` — доступность (может содержать значения `purchase`, `rent` и `subscription`);\n",
        " - `duration` — длительность фильма (для сериалов и многосерийных фильмов — длительность серии) в минутах, округлённая до десятков;\n",
        " - `feature_1..5` — пять анонимизированных вещественных и порядковых признаков;\n",
        " - `type` — принимает значения `movie`, `multipart_movie` или `series`."
      ]
    },
    {
      "cell_type": "markdown",
      "metadata": {
        "id": "x5UuKuGSzd-2"
      },
      "source": [
        "`transactions.csv` — список всех транзакций за определённый период времени:"
      ]
    },
    {
      "cell_type": "code",
      "execution_count": 78,
      "metadata": {
        "id": "oS10OaPyzd-3"
      },
      "outputs": [],
      "source": [
        "transactions = pd.read_csv('/content/drive/MyDrive/transactions.csv',\n",
        "    dtype={\n",
        "        'element_uid': np.uint16,\n",
        "        'user_uid': np.uint32,\n",
        "        'consumption_mode': 'category',\n",
        "        'ts': np.float64,\n",
        "        'watched_time': np.uint64,\n",
        "        'device_type': np.uint8,\n",
        "        'device_manufacturer': np.uint8\n",
        "    }\n",
        ")"
      ]
    },
    {
      "cell_type": "code",
      "execution_count": 79,
      "metadata": {
        "colab": {
          "base_uri": "https://localhost:8080/",
          "height": 206
        },
        "id": "FlXf3n_1zd-7",
        "outputId": "81e28af7-5f1d-45ca-b66d-1be5d8ee73d4"
      },
      "outputs": [
        {
          "output_type": "execute_result",
          "data": {
            "text/plain": [
              "   element_uid  user_uid consumption_mode            ts  watched_time  \\\n",
              "0         3336      5177                S  4.430518e+07          4282   \n",
              "1          481    593316                S  4.430518e+07          2989   \n",
              "2         4128    262355                S  4.430518e+07           833   \n",
              "3         6272     74296                S  4.430518e+07          2530   \n",
              "4         5543    340623                P  4.430518e+07          6282   \n",
              "\n",
              "   device_type  device_manufacturer  \n",
              "0            0                   50  \n",
              "1            0                   11  \n",
              "2            0                   50  \n",
              "3            0                   99  \n",
              "4            0                   50  "
            ],
            "text/html": [
              "\n",
              "  <div id=\"df-0013ad41-9542-4da0-a122-9a5302d81136\" class=\"colab-df-container\">\n",
              "    <div>\n",
              "<style scoped>\n",
              "    .dataframe tbody tr th:only-of-type {\n",
              "        vertical-align: middle;\n",
              "    }\n",
              "\n",
              "    .dataframe tbody tr th {\n",
              "        vertical-align: top;\n",
              "    }\n",
              "\n",
              "    .dataframe thead th {\n",
              "        text-align: right;\n",
              "    }\n",
              "</style>\n",
              "<table border=\"1\" class=\"dataframe\">\n",
              "  <thead>\n",
              "    <tr style=\"text-align: right;\">\n",
              "      <th></th>\n",
              "      <th>element_uid</th>\n",
              "      <th>user_uid</th>\n",
              "      <th>consumption_mode</th>\n",
              "      <th>ts</th>\n",
              "      <th>watched_time</th>\n",
              "      <th>device_type</th>\n",
              "      <th>device_manufacturer</th>\n",
              "    </tr>\n",
              "  </thead>\n",
              "  <tbody>\n",
              "    <tr>\n",
              "      <th>0</th>\n",
              "      <td>3336</td>\n",
              "      <td>5177</td>\n",
              "      <td>S</td>\n",
              "      <td>4.430518e+07</td>\n",
              "      <td>4282</td>\n",
              "      <td>0</td>\n",
              "      <td>50</td>\n",
              "    </tr>\n",
              "    <tr>\n",
              "      <th>1</th>\n",
              "      <td>481</td>\n",
              "      <td>593316</td>\n",
              "      <td>S</td>\n",
              "      <td>4.430518e+07</td>\n",
              "      <td>2989</td>\n",
              "      <td>0</td>\n",
              "      <td>11</td>\n",
              "    </tr>\n",
              "    <tr>\n",
              "      <th>2</th>\n",
              "      <td>4128</td>\n",
              "      <td>262355</td>\n",
              "      <td>S</td>\n",
              "      <td>4.430518e+07</td>\n",
              "      <td>833</td>\n",
              "      <td>0</td>\n",
              "      <td>50</td>\n",
              "    </tr>\n",
              "    <tr>\n",
              "      <th>3</th>\n",
              "      <td>6272</td>\n",
              "      <td>74296</td>\n",
              "      <td>S</td>\n",
              "      <td>4.430518e+07</td>\n",
              "      <td>2530</td>\n",
              "      <td>0</td>\n",
              "      <td>99</td>\n",
              "    </tr>\n",
              "    <tr>\n",
              "      <th>4</th>\n",
              "      <td>5543</td>\n",
              "      <td>340623</td>\n",
              "      <td>P</td>\n",
              "      <td>4.430518e+07</td>\n",
              "      <td>6282</td>\n",
              "      <td>0</td>\n",
              "      <td>50</td>\n",
              "    </tr>\n",
              "  </tbody>\n",
              "</table>\n",
              "</div>\n",
              "    <div class=\"colab-df-buttons\">\n",
              "\n",
              "  <div class=\"colab-df-container\">\n",
              "    <button class=\"colab-df-convert\" onclick=\"convertToInteractive('df-0013ad41-9542-4da0-a122-9a5302d81136')\"\n",
              "            title=\"Convert this dataframe to an interactive table.\"\n",
              "            style=\"display:none;\">\n",
              "\n",
              "  <svg xmlns=\"http://www.w3.org/2000/svg\" height=\"24px\" viewBox=\"0 -960 960 960\">\n",
              "    <path d=\"M120-120v-720h720v720H120Zm60-500h600v-160H180v160Zm220 220h160v-160H400v160Zm0 220h160v-160H400v160ZM180-400h160v-160H180v160Zm440 0h160v-160H620v160ZM180-180h160v-160H180v160Zm440 0h160v-160H620v160Z\"/>\n",
              "  </svg>\n",
              "    </button>\n",
              "\n",
              "  <style>\n",
              "    .colab-df-container {\n",
              "      display:flex;\n",
              "      gap: 12px;\n",
              "    }\n",
              "\n",
              "    .colab-df-convert {\n",
              "      background-color: #E8F0FE;\n",
              "      border: none;\n",
              "      border-radius: 50%;\n",
              "      cursor: pointer;\n",
              "      display: none;\n",
              "      fill: #1967D2;\n",
              "      height: 32px;\n",
              "      padding: 0 0 0 0;\n",
              "      width: 32px;\n",
              "    }\n",
              "\n",
              "    .colab-df-convert:hover {\n",
              "      background-color: #E2EBFA;\n",
              "      box-shadow: 0px 1px 2px rgba(60, 64, 67, 0.3), 0px 1px 3px 1px rgba(60, 64, 67, 0.15);\n",
              "      fill: #174EA6;\n",
              "    }\n",
              "\n",
              "    .colab-df-buttons div {\n",
              "      margin-bottom: 4px;\n",
              "    }\n",
              "\n",
              "    [theme=dark] .colab-df-convert {\n",
              "      background-color: #3B4455;\n",
              "      fill: #D2E3FC;\n",
              "    }\n",
              "\n",
              "    [theme=dark] .colab-df-convert:hover {\n",
              "      background-color: #434B5C;\n",
              "      box-shadow: 0px 1px 3px 1px rgba(0, 0, 0, 0.15);\n",
              "      filter: drop-shadow(0px 1px 2px rgba(0, 0, 0, 0.3));\n",
              "      fill: #FFFFFF;\n",
              "    }\n",
              "  </style>\n",
              "\n",
              "    <script>\n",
              "      const buttonEl =\n",
              "        document.querySelector('#df-0013ad41-9542-4da0-a122-9a5302d81136 button.colab-df-convert');\n",
              "      buttonEl.style.display =\n",
              "        google.colab.kernel.accessAllowed ? 'block' : 'none';\n",
              "\n",
              "      async function convertToInteractive(key) {\n",
              "        const element = document.querySelector('#df-0013ad41-9542-4da0-a122-9a5302d81136');\n",
              "        const dataTable =\n",
              "          await google.colab.kernel.invokeFunction('convertToInteractive',\n",
              "                                                    [key], {});\n",
              "        if (!dataTable) return;\n",
              "\n",
              "        const docLinkHtml = 'Like what you see? Visit the ' +\n",
              "          '<a target=\"_blank\" href=https://colab.research.google.com/notebooks/data_table.ipynb>data table notebook</a>'\n",
              "          + ' to learn more about interactive tables.';\n",
              "        element.innerHTML = '';\n",
              "        dataTable['output_type'] = 'display_data';\n",
              "        await google.colab.output.renderOutput(dataTable, element);\n",
              "        const docLink = document.createElement('div');\n",
              "        docLink.innerHTML = docLinkHtml;\n",
              "        element.appendChild(docLink);\n",
              "      }\n",
              "    </script>\n",
              "  </div>\n",
              "\n",
              "\n",
              "<div id=\"df-2da55a99-7baa-4de2-af48-826c52f8fe1e\">\n",
              "  <button class=\"colab-df-quickchart\" onclick=\"quickchart('df-2da55a99-7baa-4de2-af48-826c52f8fe1e')\"\n",
              "            title=\"Suggest charts\"\n",
              "            style=\"display:none;\">\n",
              "\n",
              "<svg xmlns=\"http://www.w3.org/2000/svg\" height=\"24px\"viewBox=\"0 0 24 24\"\n",
              "     width=\"24px\">\n",
              "    <g>\n",
              "        <path d=\"M19 3H5c-1.1 0-2 .9-2 2v14c0 1.1.9 2 2 2h14c1.1 0 2-.9 2-2V5c0-1.1-.9-2-2-2zM9 17H7v-7h2v7zm4 0h-2V7h2v10zm4 0h-2v-4h2v4z\"/>\n",
              "    </g>\n",
              "</svg>\n",
              "  </button>\n",
              "\n",
              "<style>\n",
              "  .colab-df-quickchart {\n",
              "      --bg-color: #E8F0FE;\n",
              "      --fill-color: #1967D2;\n",
              "      --hover-bg-color: #E2EBFA;\n",
              "      --hover-fill-color: #174EA6;\n",
              "      --disabled-fill-color: #AAA;\n",
              "      --disabled-bg-color: #DDD;\n",
              "  }\n",
              "\n",
              "  [theme=dark] .colab-df-quickchart {\n",
              "      --bg-color: #3B4455;\n",
              "      --fill-color: #D2E3FC;\n",
              "      --hover-bg-color: #434B5C;\n",
              "      --hover-fill-color: #FFFFFF;\n",
              "      --disabled-bg-color: #3B4455;\n",
              "      --disabled-fill-color: #666;\n",
              "  }\n",
              "\n",
              "  .colab-df-quickchart {\n",
              "    background-color: var(--bg-color);\n",
              "    border: none;\n",
              "    border-radius: 50%;\n",
              "    cursor: pointer;\n",
              "    display: none;\n",
              "    fill: var(--fill-color);\n",
              "    height: 32px;\n",
              "    padding: 0;\n",
              "    width: 32px;\n",
              "  }\n",
              "\n",
              "  .colab-df-quickchart:hover {\n",
              "    background-color: var(--hover-bg-color);\n",
              "    box-shadow: 0 1px 2px rgba(60, 64, 67, 0.3), 0 1px 3px 1px rgba(60, 64, 67, 0.15);\n",
              "    fill: var(--button-hover-fill-color);\n",
              "  }\n",
              "\n",
              "  .colab-df-quickchart-complete:disabled,\n",
              "  .colab-df-quickchart-complete:disabled:hover {\n",
              "    background-color: var(--disabled-bg-color);\n",
              "    fill: var(--disabled-fill-color);\n",
              "    box-shadow: none;\n",
              "  }\n",
              "\n",
              "  .colab-df-spinner {\n",
              "    border: 2px solid var(--fill-color);\n",
              "    border-color: transparent;\n",
              "    border-bottom-color: var(--fill-color);\n",
              "    animation:\n",
              "      spin 1s steps(1) infinite;\n",
              "  }\n",
              "\n",
              "  @keyframes spin {\n",
              "    0% {\n",
              "      border-color: transparent;\n",
              "      border-bottom-color: var(--fill-color);\n",
              "      border-left-color: var(--fill-color);\n",
              "    }\n",
              "    20% {\n",
              "      border-color: transparent;\n",
              "      border-left-color: var(--fill-color);\n",
              "      border-top-color: var(--fill-color);\n",
              "    }\n",
              "    30% {\n",
              "      border-color: transparent;\n",
              "      border-left-color: var(--fill-color);\n",
              "      border-top-color: var(--fill-color);\n",
              "      border-right-color: var(--fill-color);\n",
              "    }\n",
              "    40% {\n",
              "      border-color: transparent;\n",
              "      border-right-color: var(--fill-color);\n",
              "      border-top-color: var(--fill-color);\n",
              "    }\n",
              "    60% {\n",
              "      border-color: transparent;\n",
              "      border-right-color: var(--fill-color);\n",
              "    }\n",
              "    80% {\n",
              "      border-color: transparent;\n",
              "      border-right-color: var(--fill-color);\n",
              "      border-bottom-color: var(--fill-color);\n",
              "    }\n",
              "    90% {\n",
              "      border-color: transparent;\n",
              "      border-bottom-color: var(--fill-color);\n",
              "    }\n",
              "  }\n",
              "</style>\n",
              "\n",
              "  <script>\n",
              "    async function quickchart(key) {\n",
              "      const quickchartButtonEl =\n",
              "        document.querySelector('#' + key + ' button');\n",
              "      quickchartButtonEl.disabled = true;  // To prevent multiple clicks.\n",
              "      quickchartButtonEl.classList.add('colab-df-spinner');\n",
              "      try {\n",
              "        const charts = await google.colab.kernel.invokeFunction(\n",
              "            'suggestCharts', [key], {});\n",
              "      } catch (error) {\n",
              "        console.error('Error during call to suggestCharts:', error);\n",
              "      }\n",
              "      quickchartButtonEl.classList.remove('colab-df-spinner');\n",
              "      quickchartButtonEl.classList.add('colab-df-quickchart-complete');\n",
              "    }\n",
              "    (() => {\n",
              "      let quickchartButtonEl =\n",
              "        document.querySelector('#df-2da55a99-7baa-4de2-af48-826c52f8fe1e button');\n",
              "      quickchartButtonEl.style.display =\n",
              "        google.colab.kernel.accessAllowed ? 'block' : 'none';\n",
              "    })();\n",
              "  </script>\n",
              "</div>\n",
              "    </div>\n",
              "  </div>\n"
            ]
          },
          "metadata": {},
          "execution_count": 79
        }
      ],
      "source": [
        "transactions.head()"
      ]
    },
    {
      "cell_type": "code",
      "execution_count": 80,
      "metadata": {
        "colab": {
          "base_uri": "https://localhost:8080/"
        },
        "id": "8Iy6oiOyzd-9",
        "outputId": "34414b1a-32fc-4028-b543-55a0896ff78c"
      },
      "outputs": [
        {
          "output_type": "execute_result",
          "data": {
            "text/plain": [
              "(9643012, 7)"
            ]
          },
          "metadata": {},
          "execution_count": 80
        }
      ],
      "source": [
        "transactions.shape"
      ]
    },
    {
      "cell_type": "markdown",
      "metadata": {
        "id": "JjTKhzeZzd_A"
      },
      "source": [
        " - `element_uid` — идентификатор элемента (фильма);\n",
        " - `user_uid` — идентификатор пользователя;\n",
        " - `consumption_mode` — тип потребления (`P` — покупка, `R` — аренда, `S` — просмотр по подписке);\n",
        " - `ts` — время совершения транзакции или начала просмотра в случае просмотра по подписке;\n",
        " - `watched_time` — число просмотренных по транзакции секунд;\n",
        " - `device_type` — анонимизированный тип устройства, с которого была совершена транзакция или начат просмотр;\n",
        " - `device_manufacturer` — анонимизированный производитель устройства, с которого была совершена транзакция или начат просмотр."
      ]
    },
    {
      "cell_type": "markdown",
      "metadata": {
        "id": "0vEPq0q2zd_A"
      },
      "source": [
        "`ratings.csv` содержит информацию о поставленных пользователями оценках:"
      ]
    },
    {
      "cell_type": "code",
      "execution_count": 81,
      "metadata": {
        "id": "gP-Gy4Enzd_B"
      },
      "outputs": [],
      "source": [
        "ratings = pd.read_csv('ratings.csv')"
      ]
    },
    {
      "cell_type": "code",
      "execution_count": 82,
      "metadata": {
        "colab": {
          "base_uri": "https://localhost:8080/",
          "height": 206
        },
        "id": "PvFr8mUZzd_D",
        "outputId": "6bc35204-cd66-49c8-a127-0cec305f2042"
      },
      "outputs": [
        {
          "output_type": "execute_result",
          "data": {
            "text/plain": [
              "   user_uid  element_uid  rating            ts\n",
              "0    571252         1364      10  4.430517e+07\n",
              "1     63140         3037      10  4.430514e+07\n",
              "2    443817         4363       8  4.430514e+07\n",
              "3    359870         1364      10  4.430506e+07\n",
              "4    359870         3578       9  4.430506e+07"
            ],
            "text/html": [
              "\n",
              "  <div id=\"df-5313399d-5a6b-443a-87d6-723ac5665553\" class=\"colab-df-container\">\n",
              "    <div>\n",
              "<style scoped>\n",
              "    .dataframe tbody tr th:only-of-type {\n",
              "        vertical-align: middle;\n",
              "    }\n",
              "\n",
              "    .dataframe tbody tr th {\n",
              "        vertical-align: top;\n",
              "    }\n",
              "\n",
              "    .dataframe thead th {\n",
              "        text-align: right;\n",
              "    }\n",
              "</style>\n",
              "<table border=\"1\" class=\"dataframe\">\n",
              "  <thead>\n",
              "    <tr style=\"text-align: right;\">\n",
              "      <th></th>\n",
              "      <th>user_uid</th>\n",
              "      <th>element_uid</th>\n",
              "      <th>rating</th>\n",
              "      <th>ts</th>\n",
              "    </tr>\n",
              "  </thead>\n",
              "  <tbody>\n",
              "    <tr>\n",
              "      <th>0</th>\n",
              "      <td>571252</td>\n",
              "      <td>1364</td>\n",
              "      <td>10</td>\n",
              "      <td>4.430517e+07</td>\n",
              "    </tr>\n",
              "    <tr>\n",
              "      <th>1</th>\n",
              "      <td>63140</td>\n",
              "      <td>3037</td>\n",
              "      <td>10</td>\n",
              "      <td>4.430514e+07</td>\n",
              "    </tr>\n",
              "    <tr>\n",
              "      <th>2</th>\n",
              "      <td>443817</td>\n",
              "      <td>4363</td>\n",
              "      <td>8</td>\n",
              "      <td>4.430514e+07</td>\n",
              "    </tr>\n",
              "    <tr>\n",
              "      <th>3</th>\n",
              "      <td>359870</td>\n",
              "      <td>1364</td>\n",
              "      <td>10</td>\n",
              "      <td>4.430506e+07</td>\n",
              "    </tr>\n",
              "    <tr>\n",
              "      <th>4</th>\n",
              "      <td>359870</td>\n",
              "      <td>3578</td>\n",
              "      <td>9</td>\n",
              "      <td>4.430506e+07</td>\n",
              "    </tr>\n",
              "  </tbody>\n",
              "</table>\n",
              "</div>\n",
              "    <div class=\"colab-df-buttons\">\n",
              "\n",
              "  <div class=\"colab-df-container\">\n",
              "    <button class=\"colab-df-convert\" onclick=\"convertToInteractive('df-5313399d-5a6b-443a-87d6-723ac5665553')\"\n",
              "            title=\"Convert this dataframe to an interactive table.\"\n",
              "            style=\"display:none;\">\n",
              "\n",
              "  <svg xmlns=\"http://www.w3.org/2000/svg\" height=\"24px\" viewBox=\"0 -960 960 960\">\n",
              "    <path d=\"M120-120v-720h720v720H120Zm60-500h600v-160H180v160Zm220 220h160v-160H400v160Zm0 220h160v-160H400v160ZM180-400h160v-160H180v160Zm440 0h160v-160H620v160ZM180-180h160v-160H180v160Zm440 0h160v-160H620v160Z\"/>\n",
              "  </svg>\n",
              "    </button>\n",
              "\n",
              "  <style>\n",
              "    .colab-df-container {\n",
              "      display:flex;\n",
              "      gap: 12px;\n",
              "    }\n",
              "\n",
              "    .colab-df-convert {\n",
              "      background-color: #E8F0FE;\n",
              "      border: none;\n",
              "      border-radius: 50%;\n",
              "      cursor: pointer;\n",
              "      display: none;\n",
              "      fill: #1967D2;\n",
              "      height: 32px;\n",
              "      padding: 0 0 0 0;\n",
              "      width: 32px;\n",
              "    }\n",
              "\n",
              "    .colab-df-convert:hover {\n",
              "      background-color: #E2EBFA;\n",
              "      box-shadow: 0px 1px 2px rgba(60, 64, 67, 0.3), 0px 1px 3px 1px rgba(60, 64, 67, 0.15);\n",
              "      fill: #174EA6;\n",
              "    }\n",
              "\n",
              "    .colab-df-buttons div {\n",
              "      margin-bottom: 4px;\n",
              "    }\n",
              "\n",
              "    [theme=dark] .colab-df-convert {\n",
              "      background-color: #3B4455;\n",
              "      fill: #D2E3FC;\n",
              "    }\n",
              "\n",
              "    [theme=dark] .colab-df-convert:hover {\n",
              "      background-color: #434B5C;\n",
              "      box-shadow: 0px 1px 3px 1px rgba(0, 0, 0, 0.15);\n",
              "      filter: drop-shadow(0px 1px 2px rgba(0, 0, 0, 0.3));\n",
              "      fill: #FFFFFF;\n",
              "    }\n",
              "  </style>\n",
              "\n",
              "    <script>\n",
              "      const buttonEl =\n",
              "        document.querySelector('#df-5313399d-5a6b-443a-87d6-723ac5665553 button.colab-df-convert');\n",
              "      buttonEl.style.display =\n",
              "        google.colab.kernel.accessAllowed ? 'block' : 'none';\n",
              "\n",
              "      async function convertToInteractive(key) {\n",
              "        const element = document.querySelector('#df-5313399d-5a6b-443a-87d6-723ac5665553');\n",
              "        const dataTable =\n",
              "          await google.colab.kernel.invokeFunction('convertToInteractive',\n",
              "                                                    [key], {});\n",
              "        if (!dataTable) return;\n",
              "\n",
              "        const docLinkHtml = 'Like what you see? Visit the ' +\n",
              "          '<a target=\"_blank\" href=https://colab.research.google.com/notebooks/data_table.ipynb>data table notebook</a>'\n",
              "          + ' to learn more about interactive tables.';\n",
              "        element.innerHTML = '';\n",
              "        dataTable['output_type'] = 'display_data';\n",
              "        await google.colab.output.renderOutput(dataTable, element);\n",
              "        const docLink = document.createElement('div');\n",
              "        docLink.innerHTML = docLinkHtml;\n",
              "        element.appendChild(docLink);\n",
              "      }\n",
              "    </script>\n",
              "  </div>\n",
              "\n",
              "\n",
              "<div id=\"df-d71fa04c-c894-40f9-9cd0-964b92db94b8\">\n",
              "  <button class=\"colab-df-quickchart\" onclick=\"quickchart('df-d71fa04c-c894-40f9-9cd0-964b92db94b8')\"\n",
              "            title=\"Suggest charts\"\n",
              "            style=\"display:none;\">\n",
              "\n",
              "<svg xmlns=\"http://www.w3.org/2000/svg\" height=\"24px\"viewBox=\"0 0 24 24\"\n",
              "     width=\"24px\">\n",
              "    <g>\n",
              "        <path d=\"M19 3H5c-1.1 0-2 .9-2 2v14c0 1.1.9 2 2 2h14c1.1 0 2-.9 2-2V5c0-1.1-.9-2-2-2zM9 17H7v-7h2v7zm4 0h-2V7h2v10zm4 0h-2v-4h2v4z\"/>\n",
              "    </g>\n",
              "</svg>\n",
              "  </button>\n",
              "\n",
              "<style>\n",
              "  .colab-df-quickchart {\n",
              "      --bg-color: #E8F0FE;\n",
              "      --fill-color: #1967D2;\n",
              "      --hover-bg-color: #E2EBFA;\n",
              "      --hover-fill-color: #174EA6;\n",
              "      --disabled-fill-color: #AAA;\n",
              "      --disabled-bg-color: #DDD;\n",
              "  }\n",
              "\n",
              "  [theme=dark] .colab-df-quickchart {\n",
              "      --bg-color: #3B4455;\n",
              "      --fill-color: #D2E3FC;\n",
              "      --hover-bg-color: #434B5C;\n",
              "      --hover-fill-color: #FFFFFF;\n",
              "      --disabled-bg-color: #3B4455;\n",
              "      --disabled-fill-color: #666;\n",
              "  }\n",
              "\n",
              "  .colab-df-quickchart {\n",
              "    background-color: var(--bg-color);\n",
              "    border: none;\n",
              "    border-radius: 50%;\n",
              "    cursor: pointer;\n",
              "    display: none;\n",
              "    fill: var(--fill-color);\n",
              "    height: 32px;\n",
              "    padding: 0;\n",
              "    width: 32px;\n",
              "  }\n",
              "\n",
              "  .colab-df-quickchart:hover {\n",
              "    background-color: var(--hover-bg-color);\n",
              "    box-shadow: 0 1px 2px rgba(60, 64, 67, 0.3), 0 1px 3px 1px rgba(60, 64, 67, 0.15);\n",
              "    fill: var(--button-hover-fill-color);\n",
              "  }\n",
              "\n",
              "  .colab-df-quickchart-complete:disabled,\n",
              "  .colab-df-quickchart-complete:disabled:hover {\n",
              "    background-color: var(--disabled-bg-color);\n",
              "    fill: var(--disabled-fill-color);\n",
              "    box-shadow: none;\n",
              "  }\n",
              "\n",
              "  .colab-df-spinner {\n",
              "    border: 2px solid var(--fill-color);\n",
              "    border-color: transparent;\n",
              "    border-bottom-color: var(--fill-color);\n",
              "    animation:\n",
              "      spin 1s steps(1) infinite;\n",
              "  }\n",
              "\n",
              "  @keyframes spin {\n",
              "    0% {\n",
              "      border-color: transparent;\n",
              "      border-bottom-color: var(--fill-color);\n",
              "      border-left-color: var(--fill-color);\n",
              "    }\n",
              "    20% {\n",
              "      border-color: transparent;\n",
              "      border-left-color: var(--fill-color);\n",
              "      border-top-color: var(--fill-color);\n",
              "    }\n",
              "    30% {\n",
              "      border-color: transparent;\n",
              "      border-left-color: var(--fill-color);\n",
              "      border-top-color: var(--fill-color);\n",
              "      border-right-color: var(--fill-color);\n",
              "    }\n",
              "    40% {\n",
              "      border-color: transparent;\n",
              "      border-right-color: var(--fill-color);\n",
              "      border-top-color: var(--fill-color);\n",
              "    }\n",
              "    60% {\n",
              "      border-color: transparent;\n",
              "      border-right-color: var(--fill-color);\n",
              "    }\n",
              "    80% {\n",
              "      border-color: transparent;\n",
              "      border-right-color: var(--fill-color);\n",
              "      border-bottom-color: var(--fill-color);\n",
              "    }\n",
              "    90% {\n",
              "      border-color: transparent;\n",
              "      border-bottom-color: var(--fill-color);\n",
              "    }\n",
              "  }\n",
              "</style>\n",
              "\n",
              "  <script>\n",
              "    async function quickchart(key) {\n",
              "      const quickchartButtonEl =\n",
              "        document.querySelector('#' + key + ' button');\n",
              "      quickchartButtonEl.disabled = true;  // To prevent multiple clicks.\n",
              "      quickchartButtonEl.classList.add('colab-df-spinner');\n",
              "      try {\n",
              "        const charts = await google.colab.kernel.invokeFunction(\n",
              "            'suggestCharts', [key], {});\n",
              "      } catch (error) {\n",
              "        console.error('Error during call to suggestCharts:', error);\n",
              "      }\n",
              "      quickchartButtonEl.classList.remove('colab-df-spinner');\n",
              "      quickchartButtonEl.classList.add('colab-df-quickchart-complete');\n",
              "    }\n",
              "    (() => {\n",
              "      let quickchartButtonEl =\n",
              "        document.querySelector('#df-d71fa04c-c894-40f9-9cd0-964b92db94b8 button');\n",
              "      quickchartButtonEl.style.display =\n",
              "        google.colab.kernel.accessAllowed ? 'block' : 'none';\n",
              "    })();\n",
              "  </script>\n",
              "</div>\n",
              "    </div>\n",
              "  </div>\n"
            ]
          },
          "metadata": {},
          "execution_count": 82
        }
      ],
      "source": [
        "ratings.head()"
      ]
    },
    {
      "cell_type": "code",
      "execution_count": 83,
      "metadata": {
        "colab": {
          "base_uri": "https://localhost:8080/"
        },
        "id": "qQNHDxtEzd_F",
        "outputId": "5590bdd9-69c8-41cf-d0ba-1d692a515559"
      },
      "outputs": [
        {
          "output_type": "execute_result",
          "data": {
            "text/plain": [
              "(438790, 4)"
            ]
          },
          "metadata": {},
          "execution_count": 83
        }
      ],
      "source": [
        "ratings.shape"
      ]
    },
    {
      "cell_type": "markdown",
      "metadata": {
        "id": "6bbAwVDVzd_H"
      },
      "source": [
        " - `rating` — поставленный пользователем рейтинг (от `0` до `10`)."
      ]
    },
    {
      "cell_type": "markdown",
      "metadata": {
        "id": "WJbYVuRdzd_H"
      },
      "source": [
        "Далее будем обучать модель на долю времени просмотра фильма. Для этого к матрице `transactions` добавим информацию о длительности фильма."
      ]
    },
    {
      "cell_type": "code",
      "execution_count": 84,
      "metadata": {
        "id": "TlbHyIBDzd_I"
      },
      "outputs": [],
      "source": [
        "transactions = transactions.merge(catalogue, how='left', on='element_uid')"
      ]
    },
    {
      "cell_type": "markdown",
      "metadata": {
        "id": "-shep0Lgzd_K"
      },
      "source": [
        " В колонке `transactions['duration']` могут быть нули, так как значения округляются до ближайшей десятки. Поэтому добавим 10 ко всем значениям. И умножим все значения `transactions['duration']` на 60, чтобы перевести в секунды."
      ]
    },
    {
      "cell_type": "code",
      "execution_count": 85,
      "metadata": {
        "id": "Y0YgV8tSzd_K"
      },
      "outputs": [],
      "source": [
        "transactions.loc[:, 'duration'] += 10\n",
        "transactions['duration']  = transactions['duration']*60"
      ]
    },
    {
      "cell_type": "markdown",
      "metadata": {
        "id": "pTxDStAGzd_N"
      },
      "source": [
        "Для простоты вычислений далее будем использовать не всех пользователей."
      ]
    },
    {
      "cell_type": "code",
      "execution_count": 86,
      "metadata": {
        "id": "JgdowSayzd_N"
      },
      "outputs": [],
      "source": [
        "transactions_small = transactions.loc[transactions.user_uid < transactions.user_uid.quantile(.01)]"
      ]
    },
    {
      "cell_type": "code",
      "execution_count": 87,
      "metadata": {
        "colab": {
          "base_uri": "https://localhost:8080/"
        },
        "id": "sm8K1V1czd_P",
        "outputId": "c39f522b-8d74-423e-ba8e-3dcf5d9ed7fd"
      },
      "outputs": [
        {
          "output_type": "execute_result",
          "data": {
            "text/plain": [
              "8296"
            ]
          },
          "metadata": {},
          "execution_count": 87
        }
      ],
      "source": [
        "transactions.element_uid.nunique()"
      ]
    },
    {
      "cell_type": "markdown",
      "metadata": {
        "id": "VGXzbH9uzd_S"
      },
      "source": [
        "Чтобы оценивать качество предсказаний построенных алгоритмов, разобьем данные на обучающую и тестовую выборки. Для этого вычислим 75-й перцентиль признака `ts` и разделим данные `transactions_small` во времени, так, чтобы в обучающую выборку попало 75% данных, а в тестовую — остальные 25%."
      ]
    },
    {
      "cell_type": "code",
      "execution_count": 88,
      "metadata": {
        "id": "l8ayIVfkzd_S"
      },
      "outputs": [],
      "source": [
        "transactions_test = transactions_small.loc[transactions_small.ts > transactions_small.ts.quantile(.75)].reset_index()\n",
        "transactions_train = transactions_small.loc[transactions_small.ts < transactions_small.ts.quantile(.75)].reset_index()"
      ]
    },
    {
      "cell_type": "code",
      "execution_count": 89,
      "metadata": {
        "colab": {
          "base_uri": "https://localhost:8080/"
        },
        "id": "j__Uy4WKzd_U",
        "outputId": "2eff29f7-496a-42a3-916e-6892709453f8"
      },
      "outputs": [
        {
          "output_type": "execute_result",
          "data": {
            "text/plain": [
              "(72319, 17)"
            ]
          },
          "metadata": {},
          "execution_count": 89
        }
      ],
      "source": [
        "transactions_train.shape"
      ]
    },
    {
      "cell_type": "code",
      "execution_count": 90,
      "metadata": {
        "colab": {
          "base_uri": "https://localhost:8080/"
        },
        "id": "gHLrq-7Xzd_W",
        "outputId": "1c232152-bb65-40e0-b192-8a9840a99216"
      },
      "outputs": [
        {
          "output_type": "execute_result",
          "data": {
            "text/plain": [
              "4498"
            ]
          },
          "metadata": {},
          "execution_count": 90
        }
      ],
      "source": [
        "transactions_train.user_uid.nunique()"
      ]
    },
    {
      "cell_type": "code",
      "execution_count": 91,
      "metadata": {
        "colab": {
          "base_uri": "https://localhost:8080/"
        },
        "id": "uW7kC277zd_Y",
        "outputId": "f2c4191c-b291-4d38-d437-46c51e7d0d2a"
      },
      "outputs": [
        {
          "output_type": "execute_result",
          "data": {
            "text/plain": [
              "2733"
            ]
          },
          "metadata": {},
          "execution_count": 91
        }
      ],
      "source": [
        "transactions_test.user_uid.nunique()"
      ]
    },
    {
      "cell_type": "markdown",
      "metadata": {
        "id": "Qy0FB-x9zd_a"
      },
      "source": [
        "Данные `ratings` тоже необходимо сократить и исключить оценки из тестовой части:"
      ]
    },
    {
      "cell_type": "code",
      "execution_count": 92,
      "metadata": {
        "colab": {
          "base_uri": "https://localhost:8080/"
        },
        "id": "OwWrm6Nozd_b",
        "outputId": "e6c87e95-6a71-43ca-9521-9348e09c9142"
      },
      "outputs": [
        {
          "output_type": "stream",
          "name": "stderr",
          "text": [
            "438790it [00:01, 294370.53it/s]\n"
          ]
        }
      ],
      "source": [
        "test_user_ids = set(transactions_test[['element_uid', 'user_uid']].itertuples(index=False))\n",
        "train_user_ids = set(transactions_train[['element_uid', 'user_uid']].itertuples(index=False))\n",
        "drop_index = []\n",
        "for row in tqdm.tqdm(ratings.itertuples()):\n",
        "    if (row.element_uid, row.user_uid) in test_user_ids or not (row.element_uid, row.user_uid) in train_user_ids:\n",
        "        drop_index.append(row.Index)"
      ]
    },
    {
      "cell_type": "code",
      "execution_count": 93,
      "metadata": {
        "id": "H7o8HuO-zd_d"
      },
      "outputs": [],
      "source": [
        "ratings.drop(drop_index, inplace=True)\n",
        "ratings.reset_index(inplace=True)"
      ]
    },
    {
      "cell_type": "code",
      "execution_count": 94,
      "metadata": {
        "colab": {
          "base_uri": "https://localhost:8080/"
        },
        "id": "nE20z4xHzd_e",
        "outputId": "d925eee0-bb2a-49ec-c184-10e25d6f97a1"
      },
      "outputs": [
        {
          "output_type": "execute_result",
          "data": {
            "text/plain": [
              "(2836, 5)"
            ]
          },
          "metadata": {},
          "execution_count": 94
        }
      ],
      "source": [
        "ratings.shape"
      ]
    },
    {
      "cell_type": "markdown",
      "metadata": {
        "id": "kbtkeIwmzd_h"
      },
      "source": [
        "На выделенной обучающей выборке необходимо обучить рекомендательную систему и предсказать top-20 наиболее релевантных для пользователя идентификаторов контента."
      ]
    },
    {
      "cell_type": "markdown",
      "metadata": {
        "id": "aQkWEnkuzd_i"
      },
      "source": [
        "Получим значение целевой переменной для итогового алгоритма — долю времени просмотра фильма:"
      ]
    },
    {
      "cell_type": "code",
      "execution_count": 95,
      "metadata": {
        "id": "vFJBtkhvzd_i"
      },
      "outputs": [],
      "source": [
        "transactions_train['target'] = transactions_train.watched_time/transactions_train.duration"
      ]
    },
    {
      "cell_type": "code",
      "execution_count": 96,
      "metadata": {
        "id": "23uNG7qNzd_k"
      },
      "outputs": [],
      "source": [
        "transactions_test['target'] = transactions_test.watched_time/transactions_test.duration"
      ]
    },
    {
      "cell_type": "code",
      "source": [
        "transactions_train.head()"
      ],
      "metadata": {
        "colab": {
          "base_uri": "https://localhost:8080/",
          "height": 591
        },
        "id": "5aEDzOkloGLC",
        "outputId": "30b45ba6-63d3-4866-a11b-0adea4230dfb"
      },
      "execution_count": 97,
      "outputs": [
        {
          "output_type": "execute_result",
          "data": {
            "text/plain": [
              "     index  element_uid  user_uid consumption_mode            ts  \\\n",
              "0  2374048         2771       850                S  4.374002e+07   \n",
              "1  2374075         3783      1912                S  4.374001e+07   \n",
              "2  2374197         1539      1912                S  4.373998e+07   \n",
              "3  2374319         3045      6021                R  4.373995e+07   \n",
              "4  2374550         7081      5662                S  4.373989e+07   \n",
              "\n",
              "   watched_time  device_type  device_manufacturer    type  \\\n",
              "0          1672            0                   50  series   \n",
              "1          6171            4                   76   movie   \n",
              "2            70            4                   76   movie   \n",
              "3          7571            0                   50   movie   \n",
              "4          3179            0                   50   movie   \n",
              "\n",
              "                     availability duration        feature_1 feature_2  \\\n",
              "0        [purchase, subscription]     3000  38554571.777868  0.712737   \n",
              "1  [purchase, rent, subscription]     7200  35565207.694893  0.766254   \n",
              "2  [purchase, rent, subscription]     6000  41367225.524366  0.698501   \n",
              "3                [purchase, rent]     8400  42856315.336426   0.66601   \n",
              "4  [purchase, rent, subscription]     6600   39953812.47221  0.697498   \n",
              "\n",
              "  feature_3 feature_4 feature_5  \\\n",
              "0        12  1.138604  0.654707   \n",
              "1        41  1.138604  0.654707   \n",
              "2        25  1.141929  0.592716   \n",
              "3        18  1.141929   0.68041   \n",
              "4        19  1.140273  0.449667   \n",
              "\n",
              "                                          attributes    target  \n",
              "0  [3224, 34069, 34070, 34071, 270, 15686, 123, 4...  0.557333  \n",
              "1  [1, 26, 27, 28, 29, 7, 30, 31, 32, 10, 14, 15,...  0.857083  \n",
              "2  [18207, 18208, 17747, 6711, 270, 18209, 130, 3...  0.011667  \n",
              "3  [110, 624, 625, 626, 7, 627, 42, 54, 175, 131,...   0.90131  \n",
              "4  [10070, 244, 10081, 10082, 245, 10083, 10, 14,...  0.481667  "
            ],
            "text/html": [
              "\n",
              "  <div id=\"df-3100a28c-75d5-4583-8a25-a72dd28658de\" class=\"colab-df-container\">\n",
              "    <div>\n",
              "<style scoped>\n",
              "    .dataframe tbody tr th:only-of-type {\n",
              "        vertical-align: middle;\n",
              "    }\n",
              "\n",
              "    .dataframe tbody tr th {\n",
              "        vertical-align: top;\n",
              "    }\n",
              "\n",
              "    .dataframe thead th {\n",
              "        text-align: right;\n",
              "    }\n",
              "</style>\n",
              "<table border=\"1\" class=\"dataframe\">\n",
              "  <thead>\n",
              "    <tr style=\"text-align: right;\">\n",
              "      <th></th>\n",
              "      <th>index</th>\n",
              "      <th>element_uid</th>\n",
              "      <th>user_uid</th>\n",
              "      <th>consumption_mode</th>\n",
              "      <th>ts</th>\n",
              "      <th>watched_time</th>\n",
              "      <th>device_type</th>\n",
              "      <th>device_manufacturer</th>\n",
              "      <th>type</th>\n",
              "      <th>availability</th>\n",
              "      <th>duration</th>\n",
              "      <th>feature_1</th>\n",
              "      <th>feature_2</th>\n",
              "      <th>feature_3</th>\n",
              "      <th>feature_4</th>\n",
              "      <th>feature_5</th>\n",
              "      <th>attributes</th>\n",
              "      <th>target</th>\n",
              "    </tr>\n",
              "  </thead>\n",
              "  <tbody>\n",
              "    <tr>\n",
              "      <th>0</th>\n",
              "      <td>2374048</td>\n",
              "      <td>2771</td>\n",
              "      <td>850</td>\n",
              "      <td>S</td>\n",
              "      <td>4.374002e+07</td>\n",
              "      <td>1672</td>\n",
              "      <td>0</td>\n",
              "      <td>50</td>\n",
              "      <td>series</td>\n",
              "      <td>[purchase, subscription]</td>\n",
              "      <td>3000</td>\n",
              "      <td>38554571.777868</td>\n",
              "      <td>0.712737</td>\n",
              "      <td>12</td>\n",
              "      <td>1.138604</td>\n",
              "      <td>0.654707</td>\n",
              "      <td>[3224, 34069, 34070, 34071, 270, 15686, 123, 4...</td>\n",
              "      <td>0.557333</td>\n",
              "    </tr>\n",
              "    <tr>\n",
              "      <th>1</th>\n",
              "      <td>2374075</td>\n",
              "      <td>3783</td>\n",
              "      <td>1912</td>\n",
              "      <td>S</td>\n",
              "      <td>4.374001e+07</td>\n",
              "      <td>6171</td>\n",
              "      <td>4</td>\n",
              "      <td>76</td>\n",
              "      <td>movie</td>\n",
              "      <td>[purchase, rent, subscription]</td>\n",
              "      <td>7200</td>\n",
              "      <td>35565207.694893</td>\n",
              "      <td>0.766254</td>\n",
              "      <td>41</td>\n",
              "      <td>1.138604</td>\n",
              "      <td>0.654707</td>\n",
              "      <td>[1, 26, 27, 28, 29, 7, 30, 31, 32, 10, 14, 15,...</td>\n",
              "      <td>0.857083</td>\n",
              "    </tr>\n",
              "    <tr>\n",
              "      <th>2</th>\n",
              "      <td>2374197</td>\n",
              "      <td>1539</td>\n",
              "      <td>1912</td>\n",
              "      <td>S</td>\n",
              "      <td>4.373998e+07</td>\n",
              "      <td>70</td>\n",
              "      <td>4</td>\n",
              "      <td>76</td>\n",
              "      <td>movie</td>\n",
              "      <td>[purchase, rent, subscription]</td>\n",
              "      <td>6000</td>\n",
              "      <td>41367225.524366</td>\n",
              "      <td>0.698501</td>\n",
              "      <td>25</td>\n",
              "      <td>1.141929</td>\n",
              "      <td>0.592716</td>\n",
              "      <td>[18207, 18208, 17747, 6711, 270, 18209, 130, 3...</td>\n",
              "      <td>0.011667</td>\n",
              "    </tr>\n",
              "    <tr>\n",
              "      <th>3</th>\n",
              "      <td>2374319</td>\n",
              "      <td>3045</td>\n",
              "      <td>6021</td>\n",
              "      <td>R</td>\n",
              "      <td>4.373995e+07</td>\n",
              "      <td>7571</td>\n",
              "      <td>0</td>\n",
              "      <td>50</td>\n",
              "      <td>movie</td>\n",
              "      <td>[purchase, rent]</td>\n",
              "      <td>8400</td>\n",
              "      <td>42856315.336426</td>\n",
              "      <td>0.66601</td>\n",
              "      <td>18</td>\n",
              "      <td>1.141929</td>\n",
              "      <td>0.68041</td>\n",
              "      <td>[110, 624, 625, 626, 7, 627, 42, 54, 175, 131,...</td>\n",
              "      <td>0.90131</td>\n",
              "    </tr>\n",
              "    <tr>\n",
              "      <th>4</th>\n",
              "      <td>2374550</td>\n",
              "      <td>7081</td>\n",
              "      <td>5662</td>\n",
              "      <td>S</td>\n",
              "      <td>4.373989e+07</td>\n",
              "      <td>3179</td>\n",
              "      <td>0</td>\n",
              "      <td>50</td>\n",
              "      <td>movie</td>\n",
              "      <td>[purchase, rent, subscription]</td>\n",
              "      <td>6600</td>\n",
              "      <td>39953812.47221</td>\n",
              "      <td>0.697498</td>\n",
              "      <td>19</td>\n",
              "      <td>1.140273</td>\n",
              "      <td>0.449667</td>\n",
              "      <td>[10070, 244, 10081, 10082, 245, 10083, 10, 14,...</td>\n",
              "      <td>0.481667</td>\n",
              "    </tr>\n",
              "  </tbody>\n",
              "</table>\n",
              "</div>\n",
              "    <div class=\"colab-df-buttons\">\n",
              "\n",
              "  <div class=\"colab-df-container\">\n",
              "    <button class=\"colab-df-convert\" onclick=\"convertToInteractive('df-3100a28c-75d5-4583-8a25-a72dd28658de')\"\n",
              "            title=\"Convert this dataframe to an interactive table.\"\n",
              "            style=\"display:none;\">\n",
              "\n",
              "  <svg xmlns=\"http://www.w3.org/2000/svg\" height=\"24px\" viewBox=\"0 -960 960 960\">\n",
              "    <path d=\"M120-120v-720h720v720H120Zm60-500h600v-160H180v160Zm220 220h160v-160H400v160Zm0 220h160v-160H400v160ZM180-400h160v-160H180v160Zm440 0h160v-160H620v160ZM180-180h160v-160H180v160Zm440 0h160v-160H620v160Z\"/>\n",
              "  </svg>\n",
              "    </button>\n",
              "\n",
              "  <style>\n",
              "    .colab-df-container {\n",
              "      display:flex;\n",
              "      gap: 12px;\n",
              "    }\n",
              "\n",
              "    .colab-df-convert {\n",
              "      background-color: #E8F0FE;\n",
              "      border: none;\n",
              "      border-radius: 50%;\n",
              "      cursor: pointer;\n",
              "      display: none;\n",
              "      fill: #1967D2;\n",
              "      height: 32px;\n",
              "      padding: 0 0 0 0;\n",
              "      width: 32px;\n",
              "    }\n",
              "\n",
              "    .colab-df-convert:hover {\n",
              "      background-color: #E2EBFA;\n",
              "      box-shadow: 0px 1px 2px rgba(60, 64, 67, 0.3), 0px 1px 3px 1px rgba(60, 64, 67, 0.15);\n",
              "      fill: #174EA6;\n",
              "    }\n",
              "\n",
              "    .colab-df-buttons div {\n",
              "      margin-bottom: 4px;\n",
              "    }\n",
              "\n",
              "    [theme=dark] .colab-df-convert {\n",
              "      background-color: #3B4455;\n",
              "      fill: #D2E3FC;\n",
              "    }\n",
              "\n",
              "    [theme=dark] .colab-df-convert:hover {\n",
              "      background-color: #434B5C;\n",
              "      box-shadow: 0px 1px 3px 1px rgba(0, 0, 0, 0.15);\n",
              "      filter: drop-shadow(0px 1px 2px rgba(0, 0, 0, 0.3));\n",
              "      fill: #FFFFFF;\n",
              "    }\n",
              "  </style>\n",
              "\n",
              "    <script>\n",
              "      const buttonEl =\n",
              "        document.querySelector('#df-3100a28c-75d5-4583-8a25-a72dd28658de button.colab-df-convert');\n",
              "      buttonEl.style.display =\n",
              "        google.colab.kernel.accessAllowed ? 'block' : 'none';\n",
              "\n",
              "      async function convertToInteractive(key) {\n",
              "        const element = document.querySelector('#df-3100a28c-75d5-4583-8a25-a72dd28658de');\n",
              "        const dataTable =\n",
              "          await google.colab.kernel.invokeFunction('convertToInteractive',\n",
              "                                                    [key], {});\n",
              "        if (!dataTable) return;\n",
              "\n",
              "        const docLinkHtml = 'Like what you see? Visit the ' +\n",
              "          '<a target=\"_blank\" href=https://colab.research.google.com/notebooks/data_table.ipynb>data table notebook</a>'\n",
              "          + ' to learn more about interactive tables.';\n",
              "        element.innerHTML = '';\n",
              "        dataTable['output_type'] = 'display_data';\n",
              "        await google.colab.output.renderOutput(dataTable, element);\n",
              "        const docLink = document.createElement('div');\n",
              "        docLink.innerHTML = docLinkHtml;\n",
              "        element.appendChild(docLink);\n",
              "      }\n",
              "    </script>\n",
              "  </div>\n",
              "\n",
              "\n",
              "<div id=\"df-5508e7cc-7744-4c8c-b4fb-4c794dfb4718\">\n",
              "  <button class=\"colab-df-quickchart\" onclick=\"quickchart('df-5508e7cc-7744-4c8c-b4fb-4c794dfb4718')\"\n",
              "            title=\"Suggest charts\"\n",
              "            style=\"display:none;\">\n",
              "\n",
              "<svg xmlns=\"http://www.w3.org/2000/svg\" height=\"24px\"viewBox=\"0 0 24 24\"\n",
              "     width=\"24px\">\n",
              "    <g>\n",
              "        <path d=\"M19 3H5c-1.1 0-2 .9-2 2v14c0 1.1.9 2 2 2h14c1.1 0 2-.9 2-2V5c0-1.1-.9-2-2-2zM9 17H7v-7h2v7zm4 0h-2V7h2v10zm4 0h-2v-4h2v4z\"/>\n",
              "    </g>\n",
              "</svg>\n",
              "  </button>\n",
              "\n",
              "<style>\n",
              "  .colab-df-quickchart {\n",
              "      --bg-color: #E8F0FE;\n",
              "      --fill-color: #1967D2;\n",
              "      --hover-bg-color: #E2EBFA;\n",
              "      --hover-fill-color: #174EA6;\n",
              "      --disabled-fill-color: #AAA;\n",
              "      --disabled-bg-color: #DDD;\n",
              "  }\n",
              "\n",
              "  [theme=dark] .colab-df-quickchart {\n",
              "      --bg-color: #3B4455;\n",
              "      --fill-color: #D2E3FC;\n",
              "      --hover-bg-color: #434B5C;\n",
              "      --hover-fill-color: #FFFFFF;\n",
              "      --disabled-bg-color: #3B4455;\n",
              "      --disabled-fill-color: #666;\n",
              "  }\n",
              "\n",
              "  .colab-df-quickchart {\n",
              "    background-color: var(--bg-color);\n",
              "    border: none;\n",
              "    border-radius: 50%;\n",
              "    cursor: pointer;\n",
              "    display: none;\n",
              "    fill: var(--fill-color);\n",
              "    height: 32px;\n",
              "    padding: 0;\n",
              "    width: 32px;\n",
              "  }\n",
              "\n",
              "  .colab-df-quickchart:hover {\n",
              "    background-color: var(--hover-bg-color);\n",
              "    box-shadow: 0 1px 2px rgba(60, 64, 67, 0.3), 0 1px 3px 1px rgba(60, 64, 67, 0.15);\n",
              "    fill: var(--button-hover-fill-color);\n",
              "  }\n",
              "\n",
              "  .colab-df-quickchart-complete:disabled,\n",
              "  .colab-df-quickchart-complete:disabled:hover {\n",
              "    background-color: var(--disabled-bg-color);\n",
              "    fill: var(--disabled-fill-color);\n",
              "    box-shadow: none;\n",
              "  }\n",
              "\n",
              "  .colab-df-spinner {\n",
              "    border: 2px solid var(--fill-color);\n",
              "    border-color: transparent;\n",
              "    border-bottom-color: var(--fill-color);\n",
              "    animation:\n",
              "      spin 1s steps(1) infinite;\n",
              "  }\n",
              "\n",
              "  @keyframes spin {\n",
              "    0% {\n",
              "      border-color: transparent;\n",
              "      border-bottom-color: var(--fill-color);\n",
              "      border-left-color: var(--fill-color);\n",
              "    }\n",
              "    20% {\n",
              "      border-color: transparent;\n",
              "      border-left-color: var(--fill-color);\n",
              "      border-top-color: var(--fill-color);\n",
              "    }\n",
              "    30% {\n",
              "      border-color: transparent;\n",
              "      border-left-color: var(--fill-color);\n",
              "      border-top-color: var(--fill-color);\n",
              "      border-right-color: var(--fill-color);\n",
              "    }\n",
              "    40% {\n",
              "      border-color: transparent;\n",
              "      border-right-color: var(--fill-color);\n",
              "      border-top-color: var(--fill-color);\n",
              "    }\n",
              "    60% {\n",
              "      border-color: transparent;\n",
              "      border-right-color: var(--fill-color);\n",
              "    }\n",
              "    80% {\n",
              "      border-color: transparent;\n",
              "      border-right-color: var(--fill-color);\n",
              "      border-bottom-color: var(--fill-color);\n",
              "    }\n",
              "    90% {\n",
              "      border-color: transparent;\n",
              "      border-bottom-color: var(--fill-color);\n",
              "    }\n",
              "  }\n",
              "</style>\n",
              "\n",
              "  <script>\n",
              "    async function quickchart(key) {\n",
              "      const quickchartButtonEl =\n",
              "        document.querySelector('#' + key + ' button');\n",
              "      quickchartButtonEl.disabled = true;  // To prevent multiple clicks.\n",
              "      quickchartButtonEl.classList.add('colab-df-spinner');\n",
              "      try {\n",
              "        const charts = await google.colab.kernel.invokeFunction(\n",
              "            'suggestCharts', [key], {});\n",
              "      } catch (error) {\n",
              "        console.error('Error during call to suggestCharts:', error);\n",
              "      }\n",
              "      quickchartButtonEl.classList.remove('colab-df-spinner');\n",
              "      quickchartButtonEl.classList.add('colab-df-quickchart-complete');\n",
              "    }\n",
              "    (() => {\n",
              "      let quickchartButtonEl =\n",
              "        document.querySelector('#df-5508e7cc-7744-4c8c-b4fb-4c794dfb4718 button');\n",
              "      quickchartButtonEl.style.display =\n",
              "        google.colab.kernel.accessAllowed ? 'block' : 'none';\n",
              "    })();\n",
              "  </script>\n",
              "</div>\n",
              "    </div>\n",
              "  </div>\n"
            ]
          },
          "metadata": {},
          "execution_count": 97
        }
      ]
    },
    {
      "cell_type": "markdown",
      "metadata": {
        "id": "-ybEsW4Zzd_m"
      },
      "source": [
        "В поле `target` присутствуют значения больше 1, так как для сериалов и многосерийных фильмов используется средняя длина серии — заменим в таких случаях целевую переменную на 1:"
      ]
    },
    {
      "cell_type": "code",
      "execution_count": 98,
      "metadata": {
        "id": "v3SRG0JNzd_m"
      },
      "outputs": [],
      "source": [
        "transactions_train.loc[transactions_train['target'] > 1, 'target'] = 1\n",
        "transactions_test.loc[transactions_test['target'] > 1, 'target'] = 1"
      ]
    },
    {
      "cell_type": "markdown",
      "metadata": {
        "id": "A9-jBmtbpEj4"
      },
      "source": [
        "Далее в задании везде будем обозначать как $r_{ui}$ значение этой целевой переменной для пользователя $u$ и элемента $i$."
      ]
    },
    {
      "cell_type": "markdown",
      "metadata": {
        "id": "qVBoJBhGzd_o"
      },
      "source": [
        "### Задание 0"
      ]
    },
    {
      "cell_type": "markdown",
      "metadata": {
        "id": "6iuGXmRVzd_o"
      },
      "source": [
        "Для оценки качества предсказаний будем использовать метрику $MNAP@20$, которую использовали в соревновании.\n",
        "Метрика отличается от оригинальной $MAP$ тем, что значение для каждого пользователя нормализуется не на константу, а на число потреблённых фильмов. Таким образом, вес угадывания одного фильма больше у пользователей, имеющих меньшее число просмотров.\n"
      ]
    },
    {
      "cell_type": "markdown",
      "metadata": {
        "id": "pA5xOcMszd_p"
      },
      "source": [
        "$$MNAP@20 = \\dfrac{1}{|U|}\\sum_{u\\in U}\\dfrac{1}{\\min(n_u, 20)}\\sum_{i=1}^{20}r_u(i)p_u@i $$\n",
        "$$p_u@k = \\dfrac{1}{k}\\sum_{j=1}^kr_u(j)$$\n",
        "- $r_{u}(i)$ — потребил ли пользователь u контент, предсказанный ему на месте i (1 либо 0);\n",
        "- $n_u$ — количество элементов, которые пользователь потребил за тестовый период;\n",
        "- $U$ — множество тестовых пользователей."
      ]
    },
    {
      "cell_type": "markdown",
      "metadata": {
        "id": "TI3trSg4zd_p"
      },
      "source": [
        "Реализуйте функцию `mnap_k`, вычисляющую метрику качества $MNAP@K$, где\n",
        "\n",
        "- `predictions` — предсказания фильмов для пользователей  `List[List[int]]`;\n",
        "\n",
        "- `target` — фильмы которые посмотрел пользователь  `List[Set[int]]`."
      ]
    },
    {
      "cell_type": "code",
      "source": [
        "from typing import List, Set"
      ],
      "metadata": {
        "id": "F-TquHQGLZqT"
      },
      "execution_count": 122,
      "outputs": []
    },
    {
      "cell_type": "code",
      "source": [
        "def mnap_k(predictions: List[List[int]], target: List[Set[int]], k: int = 20) -> float:\n",
        "    total_mnap = 0.0\n",
        "\n",
        "    for u in range(len(predictions)):\n",
        "        correct_predictions = [1 if film in target[u] else 0 for film in predictions[u][:k]]\n",
        "        precision_at_k = [sum(correct_predictions[:j + 1]) / (j + 1) for j in range(k) if correct_predictions[j] == 1]\n",
        "\n",
        "        if precision_at_k:\n",
        "            total_mnap += sum(precision_at_k) / len(precision_at_k)\n",
        "\n",
        "    return total_mnap / len(predictions)\n"
      ],
      "metadata": {
        "id": "PXmAOnyVPtfB"
      },
      "execution_count": 100,
      "outputs": []
    },
    {
      "cell_type": "markdown",
      "metadata": {
        "id": "8uJNSDFoiZuV"
      },
      "source": [
        "Проведем элементарные проверки на корректность реализации:"
      ]
    },
    {
      "cell_type": "code",
      "execution_count": 101,
      "metadata": {
        "id": "heIHem9xzd_s"
      },
      "outputs": [],
      "source": [
        "test = [list(np.arange(1, 21)), list(np.arange(2, 22)), list(np.arange(3, 23))]\n",
        "target = [set(np.arange(1, 21)), set(np.arange(2, 22)), set(np.arange(3, 23))]\n",
        "assert mnap_k(test, target) == 1.0"
      ]
    },
    {
      "cell_type": "code",
      "execution_count": 102,
      "metadata": {
        "id": "wDoKdDcxzd_w"
      },
      "outputs": [],
      "source": [
        "test = [list(np.arange(1, 21)), list(np.arange(2, 22)), list(np.arange(3, 23))]\n",
        "target = [set(np.arange(1, 11)), set(np.arange(2, 12)), set(np.arange(3, 13))]\n",
        "assert mnap_k(test, target) == 1.0"
      ]
    },
    {
      "cell_type": "code",
      "execution_count": 103,
      "metadata": {
        "id": "_yO37uI7zd_y"
      },
      "outputs": [],
      "source": [
        "test = [list(np.arange(1, 21)), list(np.arange(2, 22)), list(np.arange(3, 23))]\n",
        "target = [set(np.arange(2, 21)), set(np.arange(2, 22)), set(np.arange(3, 23))]\n",
        "assert round(mnap_k(test, target), 3) == 0.954"
      ]
    },
    {
      "cell_type": "markdown",
      "metadata": {
        "id": "i2XOj-gmzd_0"
      },
      "source": [
        "### Задание 1 [1.5 балла]"
      ]
    },
    {
      "cell_type": "markdown",
      "metadata": {
        "id": "0NIJZnnUzd_0"
      },
      "source": [
        "\n",
        "\n",
        "#### Memory-based\n",
        "Два пользователя похожи, если им нравятся одинаковые фильмы.\n",
        "Рассмотрим двух пользователей $u$ и $v$ и обозначим через $I_{uv}$ множество фильмов $i$, которые просмотрели пользователи:\n",
        "$$\n",
        "    I_{uv}\n",
        "    =\n",
        "    \\{\n",
        "        i \\in I\n",
        "        |\n",
        "        \\exists r_{ui}\n",
        "        \\ \\&\\\n",
        "        \\exists r_{vi}\n",
        "    \\}.\n",
        "$$\n",
        "Тогда сходство двух данных пользователей можно вычислить через корреляцию Пирсона:\n",
        "$$\n",
        "    w_{uv}\n",
        "    =\n",
        "    \\frac{\n",
        "        \\sum_{i \\in I_{uv}}\n",
        "            (r_{ui} - \\bar r_u)\n",
        "            (r_{vi} - \\bar r_v)\n",
        "    }{\n",
        "        \\sqrt{\n",
        "        \\sum_{i \\in I_{uv}}\n",
        "            (r_{ui} - \\bar r_u)^2\n",
        "        }\n",
        "        \\sqrt{\n",
        "        \\sum_{i \\in I_{uv}}\n",
        "            (r_{vi} - \\bar r_v)^2\n",
        "        }\n",
        "    },\n",
        "$$\n",
        "где $\\bar r_u$ и $\\bar r_v$ — средняя доля времени просмотра фильма для пользователей.\n",
        "\n",
        "Чтобы вычислять сходства между элементами $i$ и $j$, введём множество пользователей $U_{ij}$, для которых известны целевые переменные для этих элементов:\n",
        "$$\n",
        "    U_{ij}\n",
        "    =\n",
        "    \\{\n",
        "        u \\in U\n",
        "        |\n",
        "        \\exists r_{ui}\n",
        "        \\ \\&\\\n",
        "        \\exists r_{uj}\n",
        "    \\}.\n",
        "$$\n",
        "Тогда сходство двух данных товаров можно вычислить через корреляцию Пирсона:\n",
        "$$\n",
        "    w_{ij}\n",
        "    =\n",
        "    \\frac{\n",
        "        \\sum_{u \\in U_{ij}}\n",
        "            (r_{ui} - \\bar r_i)\n",
        "            (r_{uj} - \\bar r_j)\n",
        "    }{\n",
        "        \\sqrt{\n",
        "        \\sum_{u \\in U_{ij}}\n",
        "            (r_{ui} - \\bar r_i)^2\n",
        "        }\n",
        "        \\sqrt{\n",
        "        \\sum_{u \\in U_{ij}}\n",
        "            (r_{uj} - \\bar r_j)^2\n",
        "        }\n",
        "    },\n",
        "$$\n",
        "где $\\bar r_i$ и $\\bar r_j$ — средняя доля времени просмотра для фильмов"
      ]
    },
    {
      "cell_type": "markdown",
      "metadata": {
        "id": "nIjHtixOzd_1"
      },
      "source": [
        "Реализуйте класс `MemoryBased` с методами:\n",
        "\n",
        "- `__init__` — конструктор класса, принимает на вход матрицу целевых переменных $r_{ui}$;\n",
        "- `user_similarity` — возвращает вектор $w_u$ сходства пользователя $u$ и всех пользователей из обучающей выборки; если пользователь $u$ не встречался в обучающей выборке, то возвращайте нулевой вектор;\n",
        "- `item_similarity` — возвращает вектор $w_i$ сходства фильма $i$ и всех фильмов из обучающей выборки; если фильм $i$ не встречался в обучающей выборке, то возвращайте нулевой вектор.\n",
        "\n",
        "\n",
        "\n",
        "Уделите особое внимание оптимизации кода. Используйте векторизацию и матричные вычисления, где это возможно."
      ]
    },
    {
      "cell_type": "code",
      "execution_count": 104,
      "metadata": {
        "id": "EAAYmlfxzeAj"
      },
      "outputs": [],
      "source": [
        "class MemoryBased:\n",
        "    def __init__(self, ratings):\n",
        "        self.ratings = ratings\n",
        "        self.num_users, self.num_items = ratings.shape\n",
        "\n",
        "    def user_similarity(self, test_user):\n",
        "        centered_user_ratings = self.ratings - np.nanmean(self.ratings, axis=1)[:, np.newaxis]\n",
        "        centered_test_ratings = test_user - np.nanmean(test_user)\n",
        "\n",
        "        dot_product = np.dot(centered_user_ratings, centered_test_ratings)\n",
        "        norm_user_ratings = np.linalg.norm(centered_user_ratings, axis=1)\n",
        "        norm_test_ratings = np.linalg.norm(centered_test_ratings)\n",
        "\n",
        "        denominator = np.sqrt(np.multiply(norm_user_ratings**2, norm_test_ratings**2) + 1e-8)\n",
        "        similarity_vector = np.divide(dot_product, denominator)\n",
        "        similarity_vector[np.isnan(similarity_vector)] = 0\n",
        "        return similarity_vector\n",
        "\n",
        "    def item_similarity(self, test_item):\n",
        "\n",
        "        centered_item_ratings = self.ratings - np.nanmean(self.ratings, axis=0)[np.newaxis, :]\n",
        "        centered_test_ratings = test_item - np.nanmean(test_item)\n",
        "        dot_product = np.dot(centered_item_ratings.T, centered_test_ratings)\n",
        "        norm_item_ratings = np.linalg.norm(centered_item_ratings, axis=0)\n",
        "        norm_test_ratings = np.linalg.norm(centered_test_ratings)\n",
        "\n",
        "        denominator = np.outer(norm_item_ratings, norm_test_ratings) + 1e-8\n",
        "\n",
        "        similarity_vector = np.divide(dot_product, denominator)\n",
        "        similarity_vector[np.isnan(similarity_vector)] = 0\n",
        "\n",
        "        return similarity_vector"
      ]
    },
    {
      "cell_type": "markdown",
      "metadata": {
        "id": "1e9cSjjpkIDi"
      },
      "source": [
        "Проведем элементарные проверки на корректность реализации:"
      ]
    },
    {
      "cell_type": "markdown",
      "metadata": {
        "id": "IBtG-wkqFYiR"
      },
      "source": [
        "если считаем, что\n",
        "\n",
        "$\\bar r_u$ и $\\bar r_v$ — средняя доля времени просмотра фильма для пользователей, посчитанная по всем просмотренным фильмам\n",
        "\n",
        "$\\bar r_i$ и $\\bar r_j$ — средняя доля времени просмотра для фильмов, посчитанная по всем пользователям, которые смотрели фильм"
      ]
    },
    {
      "cell_type": "code",
      "execution_count": 105,
      "metadata": {
        "id": "s4sVT6SDHERI"
      },
      "outputs": [],
      "source": [
        "I = np.array([[0.5, 0.4, 0, 0.1],\n",
        "              [0, 0, 0.4, 0.5],\n",
        "              [0.4, 0.4, 0.1, 0],\n",
        "              [0.5, 0.4, 0.1, 0.1]])\n",
        "user_based = MemoryBased(I)\n",
        "result = user_based.user_similarity(np.array([0.5, 0.4, 0, 0.1]))\n",
        "assert np.all(np.round(result, 2) == np.array([1.0, -0.93, 0.92, 0.98]))"
      ]
    },
    {
      "cell_type": "markdown",
      "metadata": {
        "id": "VYb3oH_fFYiR"
      },
      "source": [
        "если считаем, что\n",
        "\n",
        "$\\bar r_u$ и $\\bar r_v$ — средняя доля времени просмотра фильма для пользователей, посчитанная по множеству $I_{uv}$\n",
        "\n",
        "$\\bar r_i$ и $\\bar r_j$ — средняя доля времени просмотра для фильмов, посчитанная по множеству $I_{ij}$"
      ]
    },
    {
      "cell_type": "code",
      "execution_count": 106,
      "metadata": {
        "id": "NKsOgRrhFYiS"
      },
      "outputs": [],
      "source": [
        "I = np.array([[0.5, 0.4, 0, 0.1],\n",
        "         [0, 0.1, 0.5, 0.4],\n",
        "         [0.5, 0.5, 0.5, 0.5],\n",
        "         [0.5, 0.4, 0, 0.1]])\n",
        "user_based = MemoryBased(I)\n",
        "result = user_based.user_similarity(np.array([0.5, 0.4, 0, 0.1]))\n",
        "assert np.all(np.round(result, 2) == np.array([1.0, -1.0, 0.0, 1.0]))"
      ]
    },
    {
      "cell_type": "markdown",
      "metadata": {
        "id": "DrufT95YzeAl"
      },
      "source": [
        "### Задание 2 [1 балл]"
      ]
    },
    {
      "cell_type": "markdown",
      "metadata": {
        "id": "GgsrZEsFzeAm"
      },
      "source": [
        "#### User-Based\n",
        "В подходе на основе сходств пользователей\n",
        "определяется множество $U(u_0)$ пользователей, похожих на данного:\n",
        "$$\n",
        "    U(u_0)\n",
        "    =\n",
        "    \\{v \\in U\n",
        "        |\n",
        "        w_{u_0 v} > \\alpha\n",
        "    \\}.\n",
        "$$\n",
        "После этого для каждого товара вычисляется, как часто он покупался пользователями из $U(u_0)$:\n",
        "$$\n",
        "    p_{i}\n",
        "    =\n",
        "    \\frac{\n",
        "        |\\{u \\in U(u_0) | \\exists r_{ui}\\}|\n",
        "    }{\n",
        "        |U(u_0)|\n",
        "    }.\n",
        "$$\n",
        "Пользователю рекомендуются $k$ товаров с наибольшими значениями $p_i$.\n",
        "Данный подход позволяет строить рекомендации, если для данного пользователя найдутся похожие.\n",
        "Если же пользователь является нетипичным, то подобрать что-либо не получится."
      ]
    },
    {
      "cell_type": "markdown",
      "metadata": {
        "id": "-yUQKULhzeAm"
      },
      "source": [
        "Реализуйте класс `UserBased`, наследованный от `MemoryBased`. Считайте, что $\\alpha = 0$.\n",
        "\n",
        "Класс `UserBased` должен иметь метод реализованный `recomendation_k` с параметром k, возвращающий матрицу предсказаний размера N x k (для каждого пользователя из user_vectors предсказывать top-k фильмов)."
      ]
    },
    {
      "cell_type": "code",
      "source": [
        "class UserBased(MemoryBased):\n",
        "    def recommendation_k(self, user_vectors, k=20):\n",
        "        num_users, num_items = user_vectors.shape\n",
        "        recommendations = np.zeros((num_users, k), dtype=int)\n",
        "\n",
        "        for u in range(num_users):\n",
        "            similarities = self.user_similarity(user_vectors[u])\n",
        "\n",
        "            # Исключаем самого пользователя из рассмотрения\n",
        "            similarities[u] = -1\n",
        "\n",
        "            top_similar_users = np.argsort(similarities)[::-1][:k]\n",
        "            item_counts = np.sum(self.ratings[top_similar_users] > 0, axis=0)\n",
        "            top_items = np.argsort(item_counts)[::-1]\n",
        "\n",
        "            # Записываем рекомендации в матрицу\n",
        "            recommendations[u] = top_items[:k]\n",
        "\n",
        "        return recommendations\n"
      ],
      "metadata": {
        "id": "8ILB055XmDAT"
      },
      "execution_count": 107,
      "outputs": []
    },
    {
      "cell_type": "markdown",
      "metadata": {
        "id": "Vxat_Wl_j-Y_"
      },
      "source": [
        "Проведем элементарные проверки на корректность реализации:"
      ]
    },
    {
      "cell_type": "code",
      "execution_count": 108,
      "metadata": {
        "id": "TWt35KMtPROD"
      },
      "outputs": [],
      "source": [
        "I = np.array([[0.5, 0.4, 0, 0.1],\n",
        "              [0, 0.1, 0.2, 0.5],\n",
        "              [0.5, 0.5, 0.4, 0],\n",
        "              [0.5, 0.4, 0.5, 0.1]])\n",
        "\n",
        "user_based = UserBased(I)\n",
        "result = user_based.recommendation_k(np.array([[0.5, 0.4, 0, 0.1]]), k=1)\n",
        "result\n",
        "assert np.all(result == np.array([[2]]))"
      ]
    },
    {
      "cell_type": "markdown",
      "metadata": {
        "id": "3S4xZLDYzeAo"
      },
      "source": [
        "### Задание 3 [1 балл]"
      ]
    },
    {
      "cell_type": "markdown",
      "metadata": {
        "id": "iZkE_wDszeAo"
      },
      "source": [
        "#### Item-Based\n",
        "\n",
        "Определяется множество фильмов, похожих на те, которые интересовали данного пользователя:\n",
        "$$\n",
        "    I(u_0)\n",
        "    =\n",
        "    \\{\n",
        "        i \\in I\n",
        "        |\n",
        "        \\exists r_{u_0 i_0},\n",
        "        w_{i_0 i} > \\alpha\n",
        "    \\}.\n",
        "$$\n",
        "Затем для каждого товара из этого множества вычисляется его сходство с пользователем:\n",
        "$$\n",
        "    p_i\n",
        "    =\n",
        "    \\max_{i_0: \\exists r_{u_0 i_0}}\n",
        "    w_{i_0 i}.\n",
        "$$\n",
        "Пользователю рекомендуются $k$ фильмов с наибольшими значениями $p_i$.\n"
      ]
    },
    {
      "cell_type": "markdown",
      "metadata": {
        "id": "WWncGdC2zeAo"
      },
      "source": [
        "Реализуйте класс `ItemBased`, наследованный от `MemoryBased`.\n",
        "\n",
        "Класс `ItemBased` должен иметь метод реализованный `recomendation_k` с параметром k, возвращающий матрицу предсказаний размера N x k (для каждого пользователя из user_vectors предсказывать top-k фильмов)."
      ]
    },
    {
      "cell_type": "code",
      "execution_count": 109,
      "metadata": {
        "id": "_htPCpU65fiG"
      },
      "outputs": [],
      "source": [
        "class ItemBased(MemoryBased):\n",
        "    def recommendation_k(self, user_vectors, k=20):\n",
        "        num_users, num_items = user_vectors.shape\n",
        "        recommendations = np.zeros((num_users, k), dtype=int)\n",
        "\n",
        "        for u in range(num_users):\n",
        "            user_ratings = user_vectors[u]\n",
        "            candidate_items = np.where(user_ratings == 0)[0]\n",
        "            item_similarities = np.max(self.item_similarity(self.ratings[:, candidate_items]), axis=0)\n",
        "            top_items = np.argsort(item_similarities)[::-1][:k]\n",
        "\n",
        "            recommendations[u] = candidate_items[top_items]\n",
        "\n",
        "        return recommendations\n",
        "\n"
      ]
    },
    {
      "cell_type": "markdown",
      "source": [
        "Проведем элементарные проверки на корректность реализации:"
      ],
      "metadata": {
        "id": "wPVMkus3Nl1V"
      }
    },
    {
      "cell_type": "code",
      "source": [
        "I = np.array([[0.5, 0.4, 0, 0.1],\n",
        "         [0, 0.1, 0.2, 0.5],\n",
        "         [0.5, 0.5, 0.4, 0],\n",
        "         [0.5, 0.4, 0.5, 0.1]])\n",
        "item_based = UserBased(I)\n",
        "result = item_based.recomendation_k(np.array([0.5, 0.4, 0, 0.1]), k=1)\n",
        "assert np.all(result == np.array([2]))"
      ],
      "metadata": {
        "id": "ZAUT8r46Nkfq"
      },
      "execution_count": null,
      "outputs": []
    },
    {
      "cell_type": "markdown",
      "metadata": {
        "id": "S5QehC_GzeAs"
      },
      "source": [
        "### Задание 4 [1 балл]"
      ]
    },
    {
      "cell_type": "markdown",
      "metadata": {
        "id": "Rz0ToXeWzeAs"
      },
      "source": [
        "Сформируйте матрицы $R = \\{r_{ui}\\}_{u \\in U, \\, i \\in I}$ по данным `transactions_train` и `transactions_test`, где $r_{ui}$ — доля времени взаимодействовия пользователя с фильмом.\n",
        "\n",
        "С помощью Item-Based и User-Based подходов получите предсказания для пользователей из тестовой выборки и оцените качество с помощью реализованной в задании 0 функции `mnap_k` при `k=20`."
      ]
    },
    {
      "cell_type": "code",
      "source": [
        "# Создаем матрицу R для обучающей выборки с учетом 'target'\n",
        "R_train = pd.pivot_table(transactions_train, values='target', index='user_uid', columns='element_uid', aggfunc=np.sum, fill_value=0).values\n",
        "\n",
        "# Создаем матрицу R для тестовой выборки с учетом 'target'\n",
        "R_test = pd.pivot_table(transactions_test, values='target', index='user_uid', columns='element_uid', aggfunc=np.sum, fill_value=0).values"
      ],
      "metadata": {
        "id": "dlvgGE5ppaRp"
      },
      "execution_count": 110,
      "outputs": []
    },
    {
      "cell_type": "code",
      "source": [
        "print(R_train.shape)\n",
        "print(R_test.shape)"
      ],
      "metadata": {
        "colab": {
          "base_uri": "https://localhost:8080/"
        },
        "id": "KWwtWvt-tYKN",
        "outputId": "21c6b9ab-a4c4-4222-d4b0-f71237cd1654"
      },
      "execution_count": 130,
      "outputs": [
        {
          "output_type": "stream",
          "name": "stdout",
          "text": [
            "(4498, 5124)\n",
            "(2733, 3578)\n"
          ]
        }
      ]
    },
    {
      "cell_type": "code",
      "source": [
        "item_based = ItemBased(R_train)\n",
        "user_based = UserBased(R_train)"
      ],
      "metadata": {
        "id": "v3IOZ_LquQb-"
      },
      "execution_count": 114,
      "outputs": []
    },
    {
      "cell_type": "code",
      "source": [
        "user_based_recommendations = user_based.recommendation_k(R_train, k=20)"
      ],
      "metadata": {
        "id": "FlDFzR-6ZLtB"
      },
      "execution_count": 115,
      "outputs": []
    },
    {
      "cell_type": "code",
      "source": [
        "item_based_recommendations = item_based.recommendation_k(R_train, k=20)"
      ],
      "metadata": {
        "id": "i-7UyzA85p7X"
      },
      "execution_count": null,
      "outputs": []
    },
    {
      "cell_type": "code",
      "source": [
        "user_based_predictions = user_based_recommendations[:, :R_test.shape[1]]\n",
        "item_based_predictions = item_based_recommendations[:, :R_test.shape[1]]"
      ],
      "metadata": {
        "id": "zN-iWJc0AWAA"
      },
      "execution_count": 155,
      "outputs": []
    },
    {
      "cell_type": "code",
      "source": [
        "common_users = set(transactions_test['user_uid']).intersection(set(transactions_train['user_uid']))\n",
        "common_users_idx = [idx for idx, user in enumerate(transactions_train['user_uid']) if user in common_users]"
      ],
      "metadata": {
        "id": "_U8ar8F-AWXw"
      },
      "execution_count": 156,
      "outputs": []
    },
    {
      "cell_type": "code",
      "source": [
        "common_users_idx = [idx for idx in common_users_idx if idx < len(user_based_recommendations)]\n",
        "\n",
        "user_based_predictions = [set(user_based_recommendations[u]) for u in common_users_idx if u < len(user_based_recommendations)]\n",
        "item_based_predictions = [set(item_based_recommendations[u]) for u in common_users_idx if u < len(item_based_recommendations)]\n"
      ],
      "metadata": {
        "id": "e7wiY9tIAa3o"
      },
      "execution_count": 157,
      "outputs": []
    },
    {
      "cell_type": "code",
      "source": [
        "true_values = [set(np.where(R_test[u] > 0)[0]) for u in common_users_idx if u < R_test.shape[0]]\n",
        "\n",
        "user_based_quality = mnap_k(user_based_predictions, true_values, k=20)\n",
        "item_based_quality = mnap_k(item_based_predictions, true_values, k=20)"
      ],
      "metadata": {
        "id": "KNSu849c68pf"
      },
      "execution_count": 184,
      "outputs": []
    },
    {
      "cell_type": "code",
      "source": [
        "print(\"User-Based Quality:\", user_based_quality)\n",
        "print(\"Item-Based Quality:\", item_based_quality)"
      ],
      "metadata": {
        "colab": {
          "base_uri": "https://localhost:8080/"
        },
        "id": "2J4Gtf7qDqX_",
        "outputId": "9c4bcb1f-cfc7-4298-e8bb-1a0d1dc51751"
      },
      "execution_count": 186,
      "outputs": [
        {
          "output_type": "stream",
          "name": "stdout",
          "text": [
            "User-Based Quality: 0.7845181179385476\n",
            "Item-Based Quality: 0.7143579610497344\n"
          ]
        }
      ]
    },
    {
      "cell_type": "markdown",
      "metadata": {
        "id": "Ysx3umr4zeAv"
      },
      "source": [
        "### Задание 5 [3 балла]"
      ]
    },
    {
      "cell_type": "markdown",
      "metadata": {
        "id": "ugwCfjQKzeAv"
      },
      "source": [
        "#### Latent factor model (LFM)"
      ]
    },
    {
      "cell_type": "markdown",
      "metadata": {
        "id": "4WTN48_vzeAv"
      },
      "source": [
        "В этом подходе значение целовой переменной $r_{ui}$ пользователя $u$, поставленная фильму $i$, ищется как скалярное произведение векторов $p_u$ и $q_i$ в некотором пространстве $R^K$ латентных признаков:\n",
        "$$\n",
        "    r_{ui}\n",
        "    \\approx\n",
        "    \\langle p_u, q_i \\rangle.\n",
        "$$\n",
        "\n",
        "\n",
        "\n",
        "Иными словами, модель находит пространство признаков, в котором мы описываем и фильмы, и пользователей и в котором целевая переменная является мерой близости между фильмами и пользователями.\n",
        "\n",
        "Для настройки модели будем минимизировать следующий функционал:\n",
        "\n",
        "\\begin{equation}\n",
        "\\label{eq:lfmReg}\n",
        "    \\sum_{(u, i) \\in R}\n",
        "        \\left(\n",
        "            r_{ui}\n",
        "            - \\langle p_u, q_i \\rangle\n",
        "        \\right)^2\n",
        "    +\n",
        "    \\lambda\n",
        "    \\sum_{u \\in U}\n",
        "        \\|p_u\\|^2\n",
        "    +\n",
        "    \\mu\n",
        "    \\sum_{i \\in I}\n",
        "        \\|q_i\\|^2\n",
        "    \\to\n",
        "    \\min_{P, Q}\n",
        "\\end{equation}\n",
        "\n",
        "В [статье](https://dl.acm.org/doi/10.1145/1864708.1864726) описан метод оптимизации ALS (Alternating Least Squares) для данного функционала.\n",
        "В методе проводятся $N$ итераций, в рамках каждой итерации сначала оптимизируется $p$ при фиксированном\n",
        "$q$, затем $q$ при фиксированном $p$.\n",
        "\n",
        "Составим матрицу $P$ из векторов $p_u$ и матрицу $Q$ из векторов $q_i$. Матрицей $Q[u] \\in R^{n_u×K}$ будем обозначать подматрицу матрицы $Q$ только для товаров, оцененных пользователем $u$, где $n_u$ – количество оценок пользователя $u$.\n",
        "Шаг перенастройки $p_u$ при фиксированной матрице $Q$ сводится к настройке Ridge-регрессии и выглядит так:\n",
        "$$A_u = Q[u]^T Q[u] $$\n",
        "$$d_u = Q[u]^Tr_u $$\n",
        "$$p_u = (\\lambda n_uI + A_u)^{−1}d_u\n",
        "$$\n",
        "\n",
        "Выпишите формулы для перенастройки $q_i$ при фиксированной матрице $P$."
      ]
    },
    {
      "cell_type": "markdown",
      "metadata": {
        "id": "SXdVq5eklLUR"
      },
      "source": [
        "**Ответ:**"
      ]
    },
    {
      "cell_type": "markdown",
      "metadata": {
        "id": "8dsbMsLqzeAw"
      },
      "source": [
        "Реализуйте функцию `latent_factor`, которая для каждого пользователя из списка `test` возвращает top-k идентификаторов контента (`element_uid`).\n",
        "\n",
        "Для тестирования матрицы `P` и `Q` задайте случайными `0.1 * np.random.random(...)`.\n",
        "\n",
        "Исследуйте качество и время работы в зависимости от размерности $K$\n",
        "пространства латентных признаков. Ведет ли увеличение $K$ к переобучению?\n"
      ]
    },
    {
      "cell_type": "code",
      "source": [
        "from scipy.optimize import minimize"
      ],
      "metadata": {
        "id": "UKqIwUW9GDo5"
      },
      "execution_count": 192,
      "outputs": []
    },
    {
      "cell_type": "code",
      "execution_count": 187,
      "metadata": {
        "id": "qPIoBGOmzeAw"
      },
      "outputs": [],
      "source": [
        "lambda_p = 0.2\n",
        "mu = 0.001\n",
        "N = 20\n",
        "K = 10"
      ]
    },
    {
      "cell_type": "code",
      "execution_count": 188,
      "metadata": {
        "id": "z1n5FThezeAy"
      },
      "outputs": [],
      "source": [
        "train = transactions_train[['user_uid', 'element_uid']]\n",
        "target = transactions_train['target']\n",
        "test = transactions_test['user_uid'].unique()"
      ]
    },
    {
      "cell_type": "code",
      "execution_count": null,
      "metadata": {
        "id": "2R4wh7UEzeA0"
      },
      "outputs": [],
      "source": [
        "def latent_factor(train, target, test, lambda_, mu, N, K, P, Q, k = 20):\n",
        "    #╰( ͡° ͜ʖ ͡° )つ──☆*:・\n",
        "    pass"
      ]
    },
    {
      "cell_type": "code",
      "source": [],
      "metadata": {
        "id": "C7yPjOVSFqMl"
      },
      "execution_count": null,
      "outputs": []
    },
    {
      "cell_type": "code",
      "source": [
        "def latent_factor(train, target, test, lambda_, mu, N, K, P, Q, k=20):\n",
        "    user_index_map = {user: idx for idx, user in enumerate(train['user_uid'].unique())}\n",
        "    item_index_map = {item: idx for idx, item in enumerate(train['element_uid'].unique())}\n",
        "\n",
        "    num_users = len(user_index_map)\n",
        "    num_items = len(item_index_map)\n",
        "    R = np.zeros((num_users, num_items))\n",
        "\n",
        "    for _, row in train.iterrows():\n",
        "        user_idx = user_index_map[row['user_uid']]\n",
        "        item_idx = item_index_map[row['element_uid']]\n",
        "        R[user_idx, item_idx] = target[user_idx]\n",
        "\n",
        "    P_optimized, Q_optimized = train_lfm(R, K, lambda_, mu)\n",
        "    recommendations = []\n",
        "\n",
        "    for user in test:\n",
        "        user_idx = user_index_map[user]\n",
        "        predicted_ratings = np.dot(P_optimized[user_idx, :], Q_optimized.T)\n",
        "        top_indices = np.argsort(predicted_ratings)[::-1][:k]\n",
        "        top_items = [item for item, idx in item_index_map.items() if idx == top_indices[0]]\n",
        "        recommendations.append(top_items)\n",
        "\n",
        "    return np.array(recommendations)"
      ],
      "metadata": {
        "id": "3e_iPyT_FqUF"
      },
      "execution_count": 243,
      "outputs": []
    },
    {
      "cell_type": "code",
      "execution_count": 251,
      "metadata": {
        "id": "rrvd3O-1XuMN"
      },
      "outputs": [],
      "source": [
        "train = pd.DataFrame({'user_uid': [1, 1, 2, 2], 'element_uid': [1, 2, 3, 4]})\n",
        "target =  np.array( [0.1, 0.8, 0.2, 0.3 ])\n",
        "test = np.array([1, 2])\n",
        "lambda_p = 0.2\n",
        "us = train.loc[:,'user_uid'].astype('int')\n",
        "mov = train.loc[:,'element_uid'].astype('int')\n",
        "U = np.unique(us)\n",
        "I = np.unique(mov)\n",
        "Q = 0.1 * np.ones((I.max(), K))\n",
        "P = 0.1 * np.ones((U.max(), K))\n",
        "\n",
        "assert np.all(latent_factor(train, target, test, lambda_p, mu, N, K, P, Q, k = 20) == np.array([[4], [4]]))"
      ]
    },
    {
      "cell_type": "markdown",
      "metadata": {
        "id": "Rw6aMTldzeA1"
      },
      "source": [
        "Оцените  качество разботы функции `latent_factor` на тестовой выборке по метрике `mnap_k` при `k=20`."
      ]
    },
    {
      "cell_type": "markdown",
      "metadata": {
        "id": "rK1NaPMRzeA1"
      },
      "source": [
        "### Задание 6 [2 балла]"
      ]
    },
    {
      "cell_type": "markdown",
      "metadata": {
        "id": "s3gLHHM6zeA1"
      },
      "source": [
        "#### Content-based"
      ]
    },
    {
      "cell_type": "markdown",
      "metadata": {
        "id": "D3TsV2WgzeA1"
      },
      "source": [
        "В соревновании осталось много неиспользуемых нами данных.\n",
        "Сформируйте из них признаковое описание пары (пользователь, фильм), придумав минимум 10 содержательных (!) признаков. Целевой переменной, как и раньше, будет являться доля времени взаимодействия пользователя и фильма. Соберите данные, обучите на полученных данных линейную регрессию и градиентный бустинг.\n",
        "Для каждого пользователя из тестовой выборки предскажите 20 фильмов, с максимальной долей времени взаимодействия. Оцените качество предсказания с помощью функции `mnap_k` при `k=20`. Какого качество удалось достичь?"
      ]
    },
    {
      "cell_type": "code",
      "execution_count": null,
      "metadata": {
        "id": "A19RtJ-TzeA2"
      },
      "outputs": [],
      "source": []
    }
  ],
  "metadata": {
    "colab": {
      "provenance": [],
      "toc_visible": true
    },
    "kernelspec": {
      "display_name": "Python 3",
      "language": "python",
      "name": "python3"
    },
    "language_info": {
      "codemirror_mode": {
        "name": "ipython",
        "version": 3
      },
      "file_extension": ".py",
      "mimetype": "text/x-python",
      "name": "python",
      "nbconvert_exporter": "python",
      "pygments_lexer": "ipython3",
      "version": "3.7.7"
    }
  },
  "nbformat": 4,
  "nbformat_minor": 0
}
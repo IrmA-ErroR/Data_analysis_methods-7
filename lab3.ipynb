{
  "cells": [
    {
      "cell_type": "markdown",
      "metadata": {
        "id": "slfK8EzZMfWB"
      },
      "source": [
        "\n",
        "## Практическое задание 3. Метод опорных векторов и аппроксимация ядер\n",
        "\n",
        "\n"
      ]
    },
    {
      "cell_type": "markdown",
      "metadata": {
        "id": "D7jRZ-8RMfWD"
      },
      "source": [
        "### О задании\n",
        "\n",
        "На занятиях мы подробно обсуждали метод опорных векторов (SVM). В базовой версии в нём нет чего-то особенного — мы всего лишь используем специальную функцию потерь, которая не требует устремлять отступы к бесконечности; ей достаточно, чтобы отступы были не меньше +1. Затем мы узнали, что SVM можно переписать в двойственном виде, который, позволяет заменить скалярные произведения объектов на ядра. Это будет соответствовать построению модели в новом пространстве более высокой размерности, координаты которого представляют собой нелинейные модификации исходных признаков.\n",
        "\n",
        "Ядровой SVM, к сожалению, довольно затратен по памяти (нужно хранить матрицу Грама размера $d \\times d$) и по времени (нужно решать задачу условной оптимизации с квадратичной функцией, а это не очень быстро). Мы обсуждали, что есть способы посчитать новые признаки $\\tilde \\varphi(x)$ на основе исходных так, что скалярные произведения этих новых $\\langle \\tilde \\varphi(x), \\tilde \\varphi(z) \\rangle$ приближают ядро $K(x, z)$.\n",
        "\n",
        "Мы будем исследовать аппроксимации методом Random Kitchen Sinks для гауссовых ядер. Будем использовать формулы, которые немного отличаются от того, что было на лекциях (мы добавим сдвиги внутрь тригонометрических функций и будем использовать только косинусы, потому что с нужным сдвигом косинус превратится в синус):\n",
        "$$\\tilde \\varphi(x) = (\n",
        "\\cos (w_1^T x + b_1),\n",
        "\\dots,\n",
        "\\cos (w_n^T x + b_n)\n",
        "),$$\n",
        "где $w_j \\sim \\mathcal{N}(0, 1/\\sigma^2)$, $b_j \\sim U[-\\pi, \\pi]$.\n",
        "\n",
        "На новых признаках $\\tilde \\varphi(x)$ мы будем строить любую линейную модель.\n",
        "\n",
        "Можно считать, что это некоторая новая парадигма построения сложных моделей. Можно направленно искать сложные нелинейные закономерности в данных с помощью градиентного бустинга или нейронных сетей, а можно просто нагенерировать большое количество случайных нелинейных признаков и надеяться, что быстрая и простая модель (то есть линейная) сможет показать на них хорошее качество. В этом задании мы изучим, насколько работоспособна такая идея.\n",
        "\n",
        "### Алгоритм\n",
        "\n",
        "Вам потребуется реализовать следующий алгоритм:\n",
        "1. Понизить размерность выборки до new_dim с помощью метода главных компонент.\n",
        "2. Для полученной выборки оценить гиперпараметр $\\sigma^2$ с помощью эвристики (рекомендуем считать медиану не по всем парам объектов, а по случайному подмножеству из где-то миллиона пар объектов): $$\\sigma^2 = \\text{median}_{i, j = 1, \\dots, \\ell, i \\neq j} \\left\\{\\sum_{k = 1}^{d} (x_{ik} - x_{jk})^2 \\right\\}$$\n",
        "3. Сгенерировать n_features наборов весов $w_j$ и сдвигов $b_j$.\n",
        "4. Сформировать n_features новых признаков по формулам, приведённым выше.\n",
        "5. Обучить линейную модель (логистическую регрессию или SVM) на новых признаках.\n",
        "6. Повторить преобразования (PCA, формирование новых признаков) к тестовой выборке и применить модель."
      ]
    },
    {
      "cell_type": "markdown",
      "metadata": {
        "id": "PmClzOM8MfWD"
      },
      "source": [
        "Тестировать алгоритм мы будем на данных Fashion MNIST. Ниже код для их загрузки и подготовки."
      ]
    },
    {
      "cell_type": "code",
      "execution_count": 1,
      "metadata": {
        "id": "6jkWYOgeMfWF",
        "colab": {
          "base_uri": "https://localhost:8080/"
        },
        "outputId": "b1e15f7b-49a0-4530-d951-e1de6b5b81ac"
      },
      "outputs": [
        {
          "output_type": "stream",
          "name": "stdout",
          "text": [
            "Downloading data from https://storage.googleapis.com/tensorflow/tf-keras-datasets/train-labels-idx1-ubyte.gz\n",
            "29515/29515 [==============================] - 0s 0us/step\n",
            "Downloading data from https://storage.googleapis.com/tensorflow/tf-keras-datasets/train-images-idx3-ubyte.gz\n",
            "26421880/26421880 [==============================] - 1s 0us/step\n",
            "Downloading data from https://storage.googleapis.com/tensorflow/tf-keras-datasets/t10k-labels-idx1-ubyte.gz\n",
            "5148/5148 [==============================] - 0s 0us/step\n",
            "Downloading data from https://storage.googleapis.com/tensorflow/tf-keras-datasets/t10k-images-idx3-ubyte.gz\n",
            "4422102/4422102 [==============================] - 0s 0us/step\n"
          ]
        }
      ],
      "source": [
        "import keras\n",
        "from keras.datasets import fashion_mnist\n",
        "(x_train_pics, y_train), (x_test_pics, y_test) = fashion_mnist.load_data()\n",
        "x_train = x_train_pics.reshape(y_train.shape[0],-1)\n",
        "x_test = x_test_pics.reshape(y_test.shape[0],-1)"
      ]
    },
    {
      "cell_type": "code",
      "execution_count": 2,
      "metadata": {
        "colab": {
          "base_uri": "https://localhost:8080/"
        },
        "id": "DrOlH26gM-QE",
        "outputId": "2565fc88-34aa-40ca-e2a6-2f25f3aa8f1a"
      },
      "outputs": [
        {
          "output_type": "stream",
          "name": "stdout",
          "text": [
            "(60000, 28, 28)\n",
            "(60000, 784)\n",
            "(10000, 28, 28)\n",
            "(10000, 784)\n"
          ]
        }
      ],
      "source": [
        "print(x_train_pics.shape)\n",
        "print(x_train.shape)\n",
        "print(x_test_pics.shape)\n",
        "print(x_test.shape)"
      ]
    },
    {
      "cell_type": "code",
      "execution_count": 3,
      "metadata": {
        "id": "0dpD80mzXmKG"
      },
      "outputs": [],
      "source": [
        "from sklearn.preprocessing import Normalizer\n",
        "normalizer = Normalizer()\n",
        "x_train = normalizer.fit_transform(x_train)\n",
        "x_test = normalizer.transform(x_test)"
      ]
    },
    {
      "cell_type": "markdown",
      "metadata": {
        "id": "ZIg6BkuzMfWF"
      },
      "source": [
        "### Задание 1.\n",
        "\n",
        "Реализуйте алгоритм, описанный выше. Желательно в виде класса с методами fit() и predict().\n",
        "\n",
        "Что должно быть в вашей реализации:\n",
        "1. Возможность задавать значения гиперпараметров new_dim (по умолчанию 50) и n_features (по умолчанию 1000).\n",
        "2. Возможность включать или выключать предварительное понижение размерности с помощью метода главных компонент.\n",
        "3. Возможность выбирать тип линейной модели (логистическая регрессия или SVM с линейным ядром).\n",
        "\n",
        "Протестируйте на данных Fashion MNIST, сформированных кодом выше. Если на тесте у вас получилась доля верных ответов не ниже 0.84 с гиперпараметрами по умолчанию, то вы всё сделали правильно."
      ]
    },
    {
      "cell_type": "code",
      "execution_count": 4,
      "metadata": {
        "id": "Ihe8gnCPReZl"
      },
      "outputs": [],
      "source": [
        "import numpy as np\n",
        "from sklearn.decomposition import PCA\n",
        "from sklearn.linear_model import LogisticRegression\n",
        "from sklearn.svm import SVC\n",
        "from sklearn.metrics import accuracy_score\n",
        "from sklearn.svm import LinearSVC"
      ]
    },
    {
      "cell_type": "code",
      "execution_count": 5,
      "metadata": {
        "id": "Q6ODEImOWJJm"
      },
      "outputs": [],
      "source": [
        "from sklearn.base import BaseEstimator, TransformerMixin\n",
        "from sklearn.decomposition import PCA\n",
        "import numpy as np\n",
        "from itertools import combinations\n",
        "from sklearn.linear_model import LogisticRegression\n",
        "from sklearn.ensemble import GradientBoostingClassifier\n",
        "from sklearn.metrics import accuracy_score\n",
        "import time"
      ]
    },
    {
      "cell_type": "code",
      "execution_count": 6,
      "metadata": {
        "id": "mhxQT6e-V6CF"
      },
      "outputs": [],
      "source": [
        "class My_model(BaseEstimator, TransformerMixin):\n",
        "    def __init__(self, n_features=1000, new_dim=50, use_PCA=True, classifier_type='logreg', C=1.0, n_estimators=100, learning_rate=0.1, use_random_features=False):\n",
        "        self.n_features = n_features\n",
        "        self.use_PCA = use_PCA\n",
        "        self.new_dim = new_dim\n",
        "        self.classifier_type = classifier_type\n",
        "        self.C = C\n",
        "        self.n_estimators = n_estimators\n",
        "        self.learning_rate = learning_rate\n",
        "        self.use_random_features = use_random_features\n",
        "\n",
        "\n",
        "        if (self.classifier_type == 'logreg'):\n",
        "            self.cls = LogisticRegression(random_state=42, n_jobs=-1, C=self.C)\n",
        "        elif (self.classifier_type == 'svm'):\n",
        "            self.cls = SVC(kernel='linear', random_state=42, C=self.C)\n",
        "        elif (self.classifier_type == 'gradient_boosting'):\n",
        "            self.cls = GradientBoostingClassifier(n_estimators=self.n_estimators, learning_rate=self.learning_rate, random_state=42)\n",
        "\n",
        "        if(self.use_PCA):\n",
        "            self.pca = PCA(n_components=self.new_dim, random_state=42)\n",
        "\n",
        "    def fit(self, X, y):\n",
        "        if(self.use_PCA):\n",
        "            X = self.pca.fit_transform(X)\n",
        "\n",
        "        if (self.use_random_features == True):\n",
        "            X_subset = X[np.random.choice(X.shape[0], 1500, replace=False)]\n",
        "            sgm_squared = np.median([np.sum(np.square(x1 - x2)) for (x1, x2) in combinations(X_subset, r=2)])\n",
        "            self.w = np.random.normal(0, 1/sgm_squared, size=(self.n_features, X.shape[1]))\n",
        "            self.b = np.random.uniform(-np.pi, np.pi, self.n_features)\n",
        "            X_new = np.cos(X.dot(self.w.T) - self.b)\n",
        "            self.cls.fit(X_new, y)\n",
        "        else:\n",
        "            self.cls.fit(X, y)\n",
        "\n",
        "        return self\n",
        "\n",
        "    def predict(self, X):\n",
        "        if(self.use_PCA):\n",
        "            X = self.pca.transform(X)\n",
        "\n",
        "        if (self.use_random_features == True):\n",
        "            X_new = np.cos(X.dot(self.w.T) - self.b)\n",
        "            return self.cls.predict(X_new)\n",
        "        else:\n",
        "            return self.cls.predict(X)"
      ]
    },
    {
      "cell_type": "code",
      "execution_count": 7,
      "metadata": {
        "colab": {
          "base_uri": "https://localhost:8080/",
          "height": 74
        },
        "id": "mY3C3yUCRcFc",
        "outputId": "775a6329-9088-4a07-a79a-ef584e7eff22"
      },
      "outputs": [
        {
          "output_type": "execute_result",
          "data": {
            "text/plain": [
              "My_model()"
            ],
            "text/html": [
              "<style>#sk-container-id-1 {color: black;background-color: white;}#sk-container-id-1 pre{padding: 0;}#sk-container-id-1 div.sk-toggleable {background-color: white;}#sk-container-id-1 label.sk-toggleable__label {cursor: pointer;display: block;width: 100%;margin-bottom: 0;padding: 0.3em;box-sizing: border-box;text-align: center;}#sk-container-id-1 label.sk-toggleable__label-arrow:before {content: \"▸\";float: left;margin-right: 0.25em;color: #696969;}#sk-container-id-1 label.sk-toggleable__label-arrow:hover:before {color: black;}#sk-container-id-1 div.sk-estimator:hover label.sk-toggleable__label-arrow:before {color: black;}#sk-container-id-1 div.sk-toggleable__content {max-height: 0;max-width: 0;overflow: hidden;text-align: left;background-color: #f0f8ff;}#sk-container-id-1 div.sk-toggleable__content pre {margin: 0.2em;color: black;border-radius: 0.25em;background-color: #f0f8ff;}#sk-container-id-1 input.sk-toggleable__control:checked~div.sk-toggleable__content {max-height: 200px;max-width: 100%;overflow: auto;}#sk-container-id-1 input.sk-toggleable__control:checked~label.sk-toggleable__label-arrow:before {content: \"▾\";}#sk-container-id-1 div.sk-estimator input.sk-toggleable__control:checked~label.sk-toggleable__label {background-color: #d4ebff;}#sk-container-id-1 div.sk-label input.sk-toggleable__control:checked~label.sk-toggleable__label {background-color: #d4ebff;}#sk-container-id-1 input.sk-hidden--visually {border: 0;clip: rect(1px 1px 1px 1px);clip: rect(1px, 1px, 1px, 1px);height: 1px;margin: -1px;overflow: hidden;padding: 0;position: absolute;width: 1px;}#sk-container-id-1 div.sk-estimator {font-family: monospace;background-color: #f0f8ff;border: 1px dotted black;border-radius: 0.25em;box-sizing: border-box;margin-bottom: 0.5em;}#sk-container-id-1 div.sk-estimator:hover {background-color: #d4ebff;}#sk-container-id-1 div.sk-parallel-item::after {content: \"\";width: 100%;border-bottom: 1px solid gray;flex-grow: 1;}#sk-container-id-1 div.sk-label:hover label.sk-toggleable__label {background-color: #d4ebff;}#sk-container-id-1 div.sk-serial::before {content: \"\";position: absolute;border-left: 1px solid gray;box-sizing: border-box;top: 0;bottom: 0;left: 50%;z-index: 0;}#sk-container-id-1 div.sk-serial {display: flex;flex-direction: column;align-items: center;background-color: white;padding-right: 0.2em;padding-left: 0.2em;position: relative;}#sk-container-id-1 div.sk-item {position: relative;z-index: 1;}#sk-container-id-1 div.sk-parallel {display: flex;align-items: stretch;justify-content: center;background-color: white;position: relative;}#sk-container-id-1 div.sk-item::before, #sk-container-id-1 div.sk-parallel-item::before {content: \"\";position: absolute;border-left: 1px solid gray;box-sizing: border-box;top: 0;bottom: 0;left: 50%;z-index: -1;}#sk-container-id-1 div.sk-parallel-item {display: flex;flex-direction: column;z-index: 1;position: relative;background-color: white;}#sk-container-id-1 div.sk-parallel-item:first-child::after {align-self: flex-end;width: 50%;}#sk-container-id-1 div.sk-parallel-item:last-child::after {align-self: flex-start;width: 50%;}#sk-container-id-1 div.sk-parallel-item:only-child::after {width: 0;}#sk-container-id-1 div.sk-dashed-wrapped {border: 1px dashed gray;margin: 0 0.4em 0.5em 0.4em;box-sizing: border-box;padding-bottom: 0.4em;background-color: white;}#sk-container-id-1 div.sk-label label {font-family: monospace;font-weight: bold;display: inline-block;line-height: 1.2em;}#sk-container-id-1 div.sk-label-container {text-align: center;}#sk-container-id-1 div.sk-container {/* jupyter's `normalize.less` sets `[hidden] { display: none; }` but bootstrap.min.css set `[hidden] { display: none !important; }` so we also need the `!important` here to be able to override the default hidden behavior on the sphinx rendered scikit-learn.org. See: https://github.com/scikit-learn/scikit-learn/issues/21755 */display: inline-block !important;position: relative;}#sk-container-id-1 div.sk-text-repr-fallback {display: none;}</style><div id=\"sk-container-id-1\" class=\"sk-top-container\"><div class=\"sk-text-repr-fallback\"><pre>My_model()</pre><b>In a Jupyter environment, please rerun this cell to show the HTML representation or trust the notebook. <br />On GitHub, the HTML representation is unable to render, please try loading this page with nbviewer.org.</b></div><div class=\"sk-container\" hidden><div class=\"sk-item\"><div class=\"sk-estimator sk-toggleable\"><input class=\"sk-toggleable__control sk-hidden--visually\" id=\"sk-estimator-id-1\" type=\"checkbox\" checked><label for=\"sk-estimator-id-1\" class=\"sk-toggleable__label sk-toggleable__label-arrow\">My_model</label><div class=\"sk-toggleable__content\"><pre>My_model()</pre></div></div></div></div></div>"
            ]
          },
          "metadata": {},
          "execution_count": 7
        }
      ],
      "source": [
        "# Пример использования класса\n",
        "model = My_model()\n",
        "model.fit(x_train, y_train)"
      ]
    },
    {
      "cell_type": "code",
      "execution_count": null,
      "metadata": {
        "colab": {
          "base_uri": "https://localhost:8080/"
        },
        "id": "5u0FjD6-XNVO",
        "outputId": "7e0be3da-45ff-4a7b-9c8b-3e93c0320fd9"
      },
      "outputs": [
        {
          "name": "stdout",
          "output_type": "stream",
          "text": [
            "Train accuracy: 0.8854\n",
            "Test accuracy: 0.8647\n"
          ]
        }
      ],
      "source": [
        "preds_train = model.predict(x_train)\n",
        "train_score = accuracy_score(y_train, preds_train)\n",
        "preds = model.predict(x_test)\n",
        "test_score = accuracy_score(y_test, preds)\n",
        "\n",
        "print('Train accuracy: %.4f' % train_score)\n",
        "print('Test accuracy: %.4f' % test_score)"
      ]
    },
    {
      "cell_type": "markdown",
      "metadata": {
        "id": "OnaHMesRMfWF"
      },
      "source": [
        "### Задание 2.\n",
        "\n",
        "Сравните подход со случайными признаками с обучением SVM на исходных признаках. Попробуйте вариант с обычным (линейным) SVM и с ядровым SVM. Ядровой SVM может очень долго обучаться, поэтому можно делать любые разумные вещи для ускорения: брать подмножество объектов из обучающей выборки, например."
      ]
    },
    {
      "cell_type": "code",
      "execution_count": 8,
      "metadata": {
        "id": "pujTAoXQvWhf"
      },
      "outputs": [],
      "source": [
        "# Создание и обучение модели со случайными признаками\n",
        "model_random_features = My_model(use_random_features=True)\n",
        "start_time = time.time()\n",
        "model_random_features.fit(x_train, y_train)\n",
        "end_time = time.time()\n",
        "training_time_random_features = end_time - start_time\n",
        "start_time = time.time()\n",
        "y_pred_random_features = model_random_features.predict(x_test)\n",
        "end_time = time.time()\n",
        "prediction_time_random_features = end_time - start_time\n",
        "accuracy_random_features = accuracy_score(y_test, y_pred_random_features)\n"
      ]
    },
    {
      "cell_type": "code",
      "execution_count": 9,
      "metadata": {
        "id": "G5Hhi6iYv5Zq"
      },
      "outputs": [],
      "source": [
        "# Создание и обучение модели с обычным (линейным) SVM\n",
        "model_linear_svm = LinearSVC(random_state=42)\n",
        "start_time = time.time()\n",
        "model_linear_svm.fit(x_train, y_train)\n",
        "end_time = time.time()\n",
        "training_time_linear_svm = end_time - start_time\n",
        "start_time = time.time()\n",
        "y_pred_linear_svm = model_linear_svm.predict(x_test)\n",
        "end_time = time.time()\n",
        "prediction_time_linear_svm = end_time - start_time\n",
        "accuracy_linear_svm = accuracy_score(y_test, y_pred_linear_svm)"
      ]
    },
    {
      "cell_type": "code",
      "execution_count": 10,
      "metadata": {
        "id": "INRkj8-Cv3On"
      },
      "outputs": [],
      "source": [
        "# Создание и обучение модели с ядровым SVM\n",
        "model_kernel_svm = SVC(random_state=42)\n",
        "start_time = time.time()\n",
        "model_kernel_svm.fit(x_train, y_train)\n",
        "end_time = time.time()\n",
        "training_time_kernel_svm = end_time - start_time\n",
        "start_time = time.time()\n",
        "y_pred_kernel_svm = model_kernel_svm.predict(x_test)\n",
        "end_time = time.time()\n",
        "prediction_time_kernel_svm = end_time - start_time\n",
        "accuracy_kernel_svm = accuracy_score(y_test, y_pred_kernel_svm)\n"
      ]
    },
    {
      "cell_type": "code",
      "execution_count": null,
      "metadata": {
        "colab": {
          "base_uri": "https://localhost:8080/"
        },
        "id": "ec2415kevytN",
        "outputId": "253b53d2-5c40-4daf-9cb9-697fb34a1ced"
      },
      "outputs": [
        {
          "name": "stdout",
          "output_type": "stream",
          "text": [
            "Сравнение подхода со случайными признаками с обучением SVM на исходных признаках:\n",
            "---------------------------------------------------------------\n",
            "Подход со случайными признаками:\n",
            "Время обучения: 59.60151696205139\n",
            "Время предсказания: 0.4664421081542969\n",
            "Точность: 0.8671\n",
            "---------------------------------------------------------------\n",
            "Обычный (линейный) SVM:\n",
            "Время обучения: 23.743595361709595\n",
            "Время предсказания: 0.09001779556274414\n",
            "Точность: 0.8445\n",
            "---------------------------------------------------------------\n",
            "Ядровой SVM:\n",
            "Время обучения: 410.98309302330017\n",
            "Время предсказания: 202.35051560401917\n",
            "Точность: 0.884\n",
            "---------------------------------------------------------------\n"
          ]
        }
      ],
      "source": [
        "# Вывод результатов сравнения\n",
        "print(\"Сравнение подхода со случайными признаками с обучением SVM на исходных признаках:\")\n",
        "print(\"---------------------------------------------------------------\")\n",
        "print(\"Подход со случайными признаками:\")\n",
        "print(\"Время обучения:\", training_time_random_features)\n",
        "print(\"Время предсказания:\", prediction_time_random_features)\n",
        "print(\"Точность:\", accuracy_random_features)\n",
        "print(\"---------------------------------------------------------------\")\n",
        "print(\"Обычный (линейный) SVM:\")\n",
        "print(\"Время обучения:\", training_time_linear_svm)\n",
        "print(\"Время предсказания:\", prediction_time_linear_svm)\n",
        "print(\"Точность:\", accuracy_linear_svm)\n",
        "print(\"---------------------------------------------------------------\")\n",
        "print(\"Ядровой SVM:\")\n",
        "print(\"Время обучения:\", training_time_kernel_svm)\n",
        "print(\"Время предсказания:\", prediction_time_kernel_svm)\n",
        "print(\"Точность:\", accuracy_kernel_svm)\n",
        "print(\"---------------------------------------------------------------\")"
      ]
    },
    {
      "cell_type": "markdown",
      "metadata": {
        "id": "sOZId-K4bZ1b"
      },
      "source": [
        "Сравните подход со случайными признаками с вариантом, в котором вы понижаете размерность с помощью PCA и обучаете градиентный бустинг (используйте нормальную имплементацию, а не из sklearn, и подберите число деревьев и длину шага).\n",
        "\n"
      ]
    },
    {
      "cell_type": "code",
      "execution_count": 11,
      "metadata": {
        "id": "zvdYqMgTwEHP"
      },
      "outputs": [],
      "source": [
        "# Создание и обучение модели со случайными признаками\n",
        "model_random_features = My_model(use_random_features=True)\n",
        "start_time = time.time()\n",
        "model_random_features.fit(x_train, y_train)\n",
        "end_time = time.time()\n",
        "training_time_random_features = end_time - start_time\n",
        "\n",
        "start_time = time.time()\n",
        "y_pred_random_features = model_random_features.predict(x_test)\n",
        "end_time = time.time()\n",
        "prediction_time_random_features = end_time - start_time\n",
        "accuracy_random_features = accuracy_score(y_test, y_pred_random_features)"
      ]
    },
    {
      "cell_type": "code",
      "execution_count": 12,
      "metadata": {
        "id": "Ox7mEwvkyJGC"
      },
      "outputs": [],
      "source": [
        "# Создание и обучение модели с PCA и градиентным бустингом\n",
        "model_pca_gradient_boosting = My_model(classifier_type='gradient_boosting', n_estimators=100, learning_rate=0.1)\n",
        "start_time = time.time()\n",
        "model_pca_gradient_boosting.fit(x_train, y_train)\n",
        "end_time = time.time()\n",
        "training_time_pca_gradient_boosting = end_time - start_time\n",
        "\n",
        "start_time = time.time()\n",
        "y_pred_pca_gradient_boosting = model_pca_gradient_boosting.predict(x_test)\n",
        "end_time = time.time()\n",
        "prediction_time_pca_gradient_boosting = end_time - start_time\n",
        "accuracy_pca_gradient_boosting = accuracy_score(y_test, y_pred_pca_gradient_boosting)\n",
        "\n"
      ]
    },
    {
      "cell_type": "code",
      "execution_count": null,
      "metadata": {
        "colab": {
          "background_save": true
        },
        "id": "DMu3aTf43iH6",
        "outputId": "411b5ad2-41cf-46f6-f7e0-c8bfc1c94995"
      },
      "outputs": [
        {
          "name": "stdout",
          "output_type": "stream",
          "text": [
            "Сравнение подхода со случайными признаками и подхода с PCA и градиентным бустингом:\n",
            "---------------------------------------------------------------\n",
            "Подход со случайными признаками:\n",
            "Время обучения: 61.26834487915039\n",
            "Время предсказания: 0.5556514263153076\n",
            "Точность: 0.8692\n",
            "---------------------------------------------------------------\n",
            "Подход с PCA и градиентным бустингом:\n",
            "Время обучения: 1708.8437776565552\n",
            "Время предсказания: 0.3224451541900635\n",
            "Точность: 0.8395\n"
          ]
        }
      ],
      "source": [
        "# Вывод результатов сравнения\n",
        "print(\"Сравнение подхода со случайными признаками и подхода с PCA и градиентным бустингом:\")\n",
        "print(\"---------------------------------------------------------------\")\n",
        "print(\"Подход со случайными признаками:\")\n",
        "print(\"Время обучения:\", training_time_random_features)\n",
        "print(\"Время предсказания:\", prediction_time_random_features)\n",
        "print(\"Точность:\", accuracy_random_features)\n",
        "print(\"---------------------------------------------------------------\")\n",
        "print(\"Подход с PCA и градиентным бустингом:\")\n",
        "print(\"Время обучения:\", training_time_pca_gradient_boosting)\n",
        "print(\"Время предсказания:\", prediction_time_pca_gradient_boosting)\n",
        "print(\"Точность:\", accuracy_pca_gradient_boosting)"
      ]
    },
    {
      "cell_type": "markdown",
      "metadata": {
        "id": "0N88FQWRbfQF"
      },
      "source": [
        "Сделайте выводы — насколько идея со случайными признаками работает? Сравните как с точки зрения качества, так и с точки зрения скорости обучения и применения."
      ]
    },
    {
      "cell_type": "markdown",
      "source": [
        "Быстрее всех обучается - Обычный (линейный) SVM\n",
        "\n",
        "Бастрее всех предсказывает - Обычный (линейный) SVM\n",
        "\n",
        "Самая высокая точность - Ядровой SVM"
      ],
      "metadata": {
        "id": "kw1gPtUhaEz-"
      }
    },
    {
      "cell_type": "code",
      "execution_count": null,
      "metadata": {
        "id": "Z4Ch-04bYiM9"
      },
      "outputs": [],
      "source": []
    },
    {
      "cell_type": "markdown",
      "metadata": {
        "id": "zaPSYtnyMfWG"
      },
      "source": [
        "### Задание 3.\n",
        "Проведите эксперименты:\n",
        "1. Помогает ли предварительное понижение размерности с помощью PCA?\n",
        "2. Как зависит итоговое качество от n_features? Выходит ли оно на плато при росте n_features?\n",
        "3. Важно ли, какую модель обучать — логистическую регрессию или SVM?"
      ]
    },
    {
      "cell_type": "markdown",
      "source": [
        "Рассмотрим модель без PCA:"
      ],
      "metadata": {
        "id": "s9NqOlAdamGP"
      }
    },
    {
      "cell_type": "code",
      "source": [
        "rff_no_pca = My_model(use_PCA=False)\n",
        "rff_no_pca.fit(x_train, y_train)\n",
        "\n",
        "no_pca_train_preds = rff_no_pca.predict(x_train)\n",
        "no_pca_preds = rff_no_pca.predict(x_test)\n",
        "\n",
        "print('Train accuracy: %.4f' % accuracy_score(y_train, no_pca_train_preds))\n",
        "print('Test accuracy: %.4f' % accuracy_score(y_test, no_pca_preds))"
      ],
      "metadata": {
        "colab": {
          "base_uri": "https://localhost:8080/"
        },
        "id": "pHHNfjDfalUN",
        "outputId": "c7bfa130-a4e9-4e8b-d647-23bf0642840e"
      },
      "execution_count": 13,
      "outputs": [
        {
          "metadata": {
            "tags": null
          },
          "name": "stdout",
          "output_type": "stream",
          "text": [
            "Train accuracy: 0.8543\n",
            "Test accuracy: 0.8371\n"
          ]
        }
      ]
    },
    {
      "cell_type": "markdown",
      "source": [
        "Предварительное понижение размерности с помощью PCA существенно влияет на качество модели."
      ],
      "metadata": {
        "id": "nu5EUbT3azhS"
      }
    },
    {
      "cell_type": "code",
      "source": [
        "import matplotlib.pyplot as plt"
      ],
      "metadata": {
        "id": "VY3WW2wWbqWp"
      },
      "execution_count": 14,
      "outputs": []
    },
    {
      "cell_type": "markdown",
      "source": [
        "Рассмотрим зависимость качества модели от значения параметра n_features:"
      ],
      "metadata": {
        "id": "9ImI-WAAa6a8"
      }
    },
    {
      "cell_type": "code",
      "source": [
        "n_ft_grid = np.logspace(1,4,20)\n",
        "acc_train = []\n",
        "acc_test = []\n",
        "\n",
        "for n in n_ft_grid:\n",
        "    model = My_model(n_features = int(n))\n",
        "    model.fit(x_train, y_train)\n",
        "    acc_train.append(accuracy_score(y_train, model.predict(x_train)))\n",
        "    acc_test.append(accuracy_score(y_test, model.predict(x_test)))"
      ],
      "metadata": {
        "id": "9mNJomIya7o3"
      },
      "execution_count": 15,
      "outputs": []
    },
    {
      "cell_type": "code",
      "source": [
        "print('Train accuracy values: min = %.4f, max = %.4f' % (min(acc_train), max(acc_train)))\n",
        "print('Test accuracy values: min = %.4f, max = %.4f' % (min(acc_test), max(acc_test)))"
      ],
      "metadata": {
        "colab": {
          "base_uri": "https://localhost:8080/"
        },
        "id": "TZ3Ot_IJp2rr",
        "outputId": "d58cd5fe-de18-4de1-dc2b-bb43225373a5"
      },
      "execution_count": 22,
      "outputs": [
        {
          "output_type": "stream",
          "name": "stdout",
          "text": [
            "Train accuracy values: min = 0.8316, max = 0.8316\n",
            "Test accuracy values: min = 0.8201, max = 0.8201\n"
          ]
        }
      ]
    },
    {
      "cell_type": "code",
      "source": [
        "print('Train accuracy >= 0.87 beginning from n_features = %d' % n_ft_grid[np.argmax(np.array(acc_train) >= 0.87)])\n",
        "print('Test accuracy >= 0.85 beginning from n_features = %d' % n_ft_grid[np.argmax(np.array(acc_test) >= 0.85)])"
      ],
      "metadata": {
        "colab": {
          "base_uri": "https://localhost:8080/"
        },
        "id": "Kl5J0hDnp8aS",
        "outputId": "be810754-f3d5-4055-b193-ec337a1d17ce"
      },
      "execution_count": 23,
      "outputs": [
        {
          "output_type": "stream",
          "name": "stdout",
          "text": [
            "Train accuracy >= 0.87 beginning from n_features = 10\n",
            "Test accuracy >= 0.85 beginning from n_features = 10\n"
          ]
        }
      ]
    },
    {
      "cell_type": "markdown",
      "source": [
        "Как можно заметить, с увеличением числа признаков качество модели улучшается и выходит на константу уже примерно на 500 признаках"
      ],
      "metadata": {
        "id": "Ev8FE3HVbU5j"
      }
    },
    {
      "cell_type": "code",
      "source": [],
      "metadata": {
        "id": "U2eNC11mbUPl"
      },
      "execution_count": null,
      "outputs": []
    },
    {
      "cell_type": "markdown",
      "source": [
        "Cравним время работы модели с логистической регрессией и линейным SVM:"
      ],
      "metadata": {
        "id": "2iOrWlQib4wn"
      }
    },
    {
      "cell_type": "code",
      "source": [
        "rff_model = My_model()\n",
        "start_time = time.time()\n",
        "rff_model.fit(x_train, y_train)\n",
        "print('RFF + Logistic regression fitting time: %.4f s' % (time.time() - start_time))"
      ],
      "metadata": {
        "colab": {
          "base_uri": "https://localhost:8080/"
        },
        "id": "2sE_FR-1pIcF",
        "outputId": "dda3db8a-044d-4c58-899b-a447c381c1c8"
      },
      "execution_count": 24,
      "outputs": [
        {
          "output_type": "stream",
          "name": "stdout",
          "text": [
            "RFF + Logistic regression fitting time: 16.9514 s\n"
          ]
        }
      ]
    },
    {
      "cell_type": "code",
      "source": [
        "preds_train = rff_model.predict(x_train)\n",
        "train_score = accuracy_score(y_train, preds_train)\n",
        "start_time = time.time()\n",
        "preds = rff_model.predict(x_test)\n",
        "print('RFF + Logistic regression predicting time: %.4f s' % (time.time() - start_time))\n",
        "test_score = accuracy_score(y_test, preds)\n",
        "\n",
        "print('Train accuracy: %.4f' % train_score)\n",
        "print('Test accuracy: %.4f' % test_score)"
      ],
      "metadata": {
        "colab": {
          "base_uri": "https://localhost:8080/"
        },
        "id": "pfesSmDecKle",
        "outputId": "0eb7215e-2c68-4cf3-8998-4e7fa6951c40"
      },
      "execution_count": 25,
      "outputs": [
        {
          "output_type": "stream",
          "name": "stdout",
          "text": [
            "RFF + Logistic regression predicting time: 0.0685 s\n",
            "Train accuracy: 0.8316\n",
            "Test accuracy: 0.8201\n"
          ]
        }
      ]
    },
    {
      "cell_type": "markdown",
      "source": [
        "Linear SVM:"
      ],
      "metadata": {
        "id": "6Ri_dt9zcNDM"
      }
    },
    {
      "cell_type": "code",
      "source": [
        "rff_model_svm = My_model(classifier_type='svm')\n",
        "start_time = time.time()\n",
        "rff_model_svm.fit(x_train, y_train)\n",
        "print('RFF + Linear SVM fitting time: %.4f s' % (time.time() - start_time))"
      ],
      "metadata": {
        "colab": {
          "base_uri": "https://localhost:8080/"
        },
        "id": "7Jej1rw3ch0R",
        "outputId": "ca126c8a-62d3-4183-c4fe-2aed7b776b9e"
      },
      "execution_count": 26,
      "outputs": [
        {
          "output_type": "stream",
          "name": "stdout",
          "text": [
            "RFF + Linear SVM fitting time: 54.2809 s\n"
          ]
        }
      ]
    },
    {
      "cell_type": "code",
      "source": [
        "preds_train_svm = rff_model_svm.predict(x_train)\n",
        "train_score_svm = accuracy_score(y_train, preds_train_svm)\n",
        "start_time = time.time()\n",
        "preds_svm = rff_model_svm.predict(x_test)\n",
        "print('RFF + Linear SVM fitting time: %.4f s' % (time.time() - start_time))\n",
        "test_score_svm = accuracy_score(y_test, preds_svm)\n",
        "\n",
        "print('Train accuracy: %.4f' % train_score_svm)\n",
        "print('Test accuracy: %.4f' % test_score_svm)"
      ],
      "metadata": {
        "colab": {
          "base_uri": "https://localhost:8080/"
        },
        "id": "scLHSlMKclo4",
        "outputId": "c1d9c82a-32c7-4998-f6a1-90df4d9fe15a"
      },
      "execution_count": 27,
      "outputs": [
        {
          "output_type": "stream",
          "name": "stdout",
          "text": [
            "RFF + Linear SVM fitting time: 13.8801 s\n",
            "Train accuracy: 0.8458\n",
            "Test accuracy: 0.8324\n"
          ]
        }
      ]
    },
    {
      "cell_type": "markdown",
      "source": [
        "Из результатов можно увидеть, что модели отличаются по времени работы и по качеству."
      ],
      "metadata": {
        "id": "YkJl9hEsq3fv"
      }
    }
  ],
  "metadata": {
    "colab": {
      "provenance": []
    },
    "kernelspec": {
      "display_name": "Python 3 (ipykernel)",
      "language": "python",
      "name": "python3"
    },
    "language_info": {
      "codemirror_mode": {
        "name": "ipython",
        "version": 3
      },
      "file_extension": ".py",
      "mimetype": "text/x-python",
      "name": "python",
      "nbconvert_exporter": "python",
      "pygments_lexer": "ipython3",
      "version": "3.9.13"
    }
  },
  "nbformat": 4,
  "nbformat_minor": 0
}